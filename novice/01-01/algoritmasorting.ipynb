{
 "cells": [
  {
   "cell_type": "markdown",
   "metadata": {},
   "source": [
    "# Algoritma Sorting Pada Python\n",
    "Pengurutan atau sorting merupakan proses dasar yang ada dalam sebuah algoritma dan struktur data. Pada pemrograman , sorting merupakan bagian yang cukup sering dipergunakan. Tujuan utama dari proses pengurutan atau sorting adalah untuk mengurutkan data berdasarkan keinginan baik itu dari yang terendah maupun yang tertinggi, sehingga data yang dihasilkan akan lebih terstruktur, teratur dan sesuai dengan kebutuhan."
   ]
  },
  {
   "cell_type": "markdown",
   "metadata": {},
   "source": [
    "# Bubble Sort\n",
    "Algoritma bubble sort cukup populer dan sederhana. Proses pada bubble sort dilakukan dengan penukaran data disebelahnya secara terus menerus hingga dalam suatu iterasi tertentu tidak ada lagi perubahan atau pertukaran. Algoritma bubble sort termasuk ke dalam kategori algoritma comparison sort, karena menggunakan perbandingan pada operasi antar elemenya.\n",
    "Analogi algoritma bubble sort :\n",
    "\n",
    "    Bandingkan nilai pada data ke satu dengan data ke dua\n",
    "    Apabila nilai data ke satu lebih besar dari data ke dua maka tukar posisinya\n",
    "\n",
    "-Kemudian data yang lebih besar tersebut dibandingkan lagi dengan data ketuga\n",
    "-Apabila data ke tiga lebih kecil dari data ke dua maka tukar posisinya\n",
    "-Dan begitu seterusnya hingga semua data yang ada menjadi terurut\n",
    "    "
   ]
  },
  {
   "cell_type": "code",
   "execution_count": 1,
   "metadata": {},
   "outputs": [
    {
     "name": "stdout",
     "output_type": "stream",
     "text": [
      "[2, 4, 7, 14, 45, 50, 69, 220]\n"
     ]
    }
   ],
   "source": [
    "def BubbleSort(val):\n",
    "    for namber in range(len(val)-1,0,-1):\n",
    "        for i in range(namber):\n",
    "            if val[i]>val[i+1]:\n",
    "                temp = val[i]\n",
    "                val[i] = val[i+1]\n",
    "                val[i+1] = temp\n",
    "\n",
    "DaftarAngka = [50,7,2,69,4,45,14,220]\n",
    "BubbleSort(DaftarAngka)\n",
    "print(DaftarAngka)"
   ]
  },
  {
   "cell_type": "markdown",
   "metadata": {},
   "source": [
    "# Selection Sort\n",
    "Algoritma selection sort merupakan pengurutan dengan konsep memilih elemen dengan nilai paling rendah dan menukar elemen tersebut dengan elemen ke –i. Nilai dari i dimulai dari 1 ke n, yang dimana n merupakan jumlah total elemen dikurangi satu.\n",
    "Analogi algoritma selection sort :\n",
    "\n",
    "\n",
    "    Memulai pengecekan data dari data ke 1 hingga data ke n.\n",
    "    Menentukan bilangan dengan index terkecil dari data pada bilangan tersebut.\n",
    "    Menukar bilangan index terkecil dengan bilangan pertama.\n",
    "    Begitu seterusnya hingga data berhasil diurutkan semuanya.\n"
   ]
  },
  {
   "cell_type": "code",
   "execution_count": 2,
   "metadata": {},
   "outputs": [
    {
     "name": "stdout",
     "output_type": "stream",
     "text": [
      "[3, 12, 26, 43, 56, 200, 211, 1000]\n"
     ]
    }
   ],
   "source": [
    "def SelectionSort(val):\n",
    "   for isi in range(len(val)-1,0,-1):\n",
    "       Max=0\n",
    "       for lokasi in range(1,isi+1):\n",
    "           if val[lokasi]>val[Max]:\n",
    "               Max = lokasi\n",
    " \n",
    "       temp = val[isi]\n",
    "       val[isi] = val[Max]\n",
    "       val[Max] = temp\n",
    " \n",
    "DaftarAngka = [200,1000,26,43,3,211,12,56]\n",
    "SelectionSort(DaftarAngka)\n",
    "print(DaftarAngka)"
   ]
  },
  {
   "cell_type": "markdown",
   "metadata": {},
   "source": [
    "# Insertion Sort\n",
    "Algoritma insertion sort merupakan suatu metode pengurutan data dengan melakukan penempatan setiap elemen data pada pisisina dengan membandingkan dengan data-data yang telah ada. Prinsip dari insertion sort adalah dengan membagi data yang akan diurutkan menjadi dua kelompok, satu kelompok yang belum diurutkan dan yang satunya lagi sudah diurutkan, Elemen yang pertama diambil dari kelompok list yang belum diurutkan dan kemudian ditempatkan sesuai posisinya pada bagian lain yang belum diurutkan.\n",
    "Analogi Algoritma insertion sort\n",
    "\n",
    "    Membandingkan data kedua dengan data kesatu\n",
    "    Apabila data ke dua lebih kecil maka tukar posisinya\n",
    "    Data ketiga dibandingkan dengan data kesatu dan kedua\n",
    "    Apabila data ketiga lebih kecil tukar lagi posisinya\n",
    "    Data keempat dibandingkan dengan data ketiga hingga kesatu\n",
    "    Apabila data keempat lebih kecil dari ketigana maka letakkan data keempat ke posisi paling depan\n",
    "    Begitu seterusnya hingga tidak ada lagi data yang dapat dipindahkan.\n"
   ]
  },
  {
   "cell_type": "code",
   "execution_count": 3,
   "metadata": {},
   "outputs": [
    {
     "name": "stdout",
     "output_type": "stream",
     "text": [
      "Data yang akan di sort [2, 54, 38, 76, 23, 56, 84, 90]\n",
      "Insertion Sort :\n",
      "[2, 54, 38, 76, 23, 56, 84, 90]\n",
      "[2, 54, 38, 76, 23, 56, 90, 84]\n",
      "[2, 54, 38, 76, 23, 90, 84, 56]\n",
      "[2, 54, 38, 76, 90, 84, 56, 23]\n",
      "[2, 54, 38, 90, 84, 76, 56, 23]\n",
      "[2, 54, 90, 84, 76, 56, 38, 23]\n",
      "[2, 90, 84, 76, 56, 54, 38, 23]\n",
      "[90, 84, 76, 56, 54, 38, 23, 2]\n"
     ]
    }
   ],
   "source": [
    "def insertion(list):\n",
    "    for j in range(len(list)-1,-1,-1):\n",
    "        value = list[j]\n",
    "        hole = j\n",
    "        while hole <(len(list)-1) and list[hole+1]>list[hole]:\n",
    "            list[hole] = list[hole+1]\n",
    "            hole = hole+1\n",
    "            list[hole] = value\n",
    "        print(list)\n",
    "list = [2,54,38,76,23,56,84,90]\n",
    "print(\"Data yang akan di sort\", list)\n",
    "print(\"Insertion Sort :\")\n",
    "insertion(list)"
   ]
  },
  {
   "cell_type": "markdown",
   "metadata": {},
   "source": [
    "# Quick Sort\n",
    "\n",
    "Algoritma quick sort ini cara kerjanya berprinsip pada penekatan divide and conquer yakni dengan memilih satu elemen sebagai elemen pivot dan mempartisi array sehingga sisi kiri pada pivot mempunyai semua elemen dengan nilai yang lebih kecil dibandingkan dengan elmen pivot dan pada sisi kanan mempunyai semua elemen dengan nilai yang lebih besar dibandingkan dengan nilai elemen pivot.\n",
    "Analogi algoritma quick sort :\n",
    "\n",
    "Mempunyai data A yang memiliki N elemen, pilih sembarang elemen dari data tersebut biasanya elemen pertama     misalkan elemen Kemudian semua elemen tersebut disusun dengan menempatkan x pada posisi j sedemikian rupa sehingga elemen ke satu sampai pada j-1 dan memiliki nilai yang lebih besar dari x\n",
    "egitu seterusnya setiap sub data\n"
   ]
  },
  {
   "cell_type": "code",
   "execution_count": 4,
   "metadata": {},
   "outputs": [
    {
     "name": "stdout",
     "output_type": "stream",
     "text": [
      "Data yang akan di sort : [67, 91, 87, 33, 49, 10, 16, 43, 65, 3]\n",
      "Quick Sort :\n",
      "[67, 91, 87, 49, 33, 10, 16, 43, 65, 3]\n",
      "[91, 67, 87, 49, 33, 10, 16, 43, 65, 3]\n",
      "[91, 67, 87, 49, 33, 10, 16, 43, 65, 3]\n",
      "[91, 67, 87, 49, 33, 10, 16, 43, 65, 3]\n",
      "[91, 67, 87, 49, 10, 33, 16, 43, 65, 3]\n",
      "[91, 67, 87, 49, 16, 33, 10, 43, 65, 3]\n",
      "[91, 67, 87, 49, 43, 33, 10, 16, 65, 3]\n",
      "[91, 67, 87, 49, 65, 33, 10, 16, 43, 3]\n"
     ]
    }
   ],
   "source": [
    "def qs(list,awal,akhir):\n",
    "    if awal < akhir:\n",
    "        pindex = partisi(list,awal,akhir)\n",
    "        qs(list,awal,pindex-1)\n",
    "        qs(list,pindex+1,akhir)\n",
    "\n",
    "def partisi(list,awal,akhir):\n",
    "    tengah = int(akhir/2)\n",
    "    pivot = list[tengah]\n",
    "    pindex = awal\n",
    "    for i in range(awal,tengah):\n",
    "        if list[i]>=pivot:\n",
    "            list[i],list[pindex]=list[pindex],list[i]\n",
    "            pindex = pindex + 1\n",
    "    list[pindex],list[tengah]=list[tengah],list[pindex]\n",
    "    print(list)\n",
    "    return pindex\n",
    "\n",
    "list = [67,91,87,33,49,10,16,43,65,3]\n",
    "print('Data yang akan di sort :', list)\n",
    "print('Quick Sort :')\n",
    "qs(list,0,len(list)-1)"
   ]
  },
  {
   "cell_type": "markdown",
   "metadata": {},
   "source": [
    "# Merge Sort\n",
    "Algoritma merge sort merupakan salah satu pengurutan dengan metode memecah data kemudian mengolah untuk diselesaikan pada setiap bagian dan menggabungkan kembali sehingga data tersebut berhasil tersusun. Merge sort dalam menyelesaikan pengurutan membutuhkan fungsi rekursif.\n",
    "Analogi algoritma merge sort :\n",
    "\n",
    "    Data dipecah menjadi dua kelompok dimana kelompok pertama adalah setengah apabila data genap atau setengah kurang satu apabila data ganjil dari seluruh data.\n",
    "    Kemudian dilakukan pemecahan kembali pada masing-masing kelompok hingga hanya terdapat satu data pada satu kelompok.\n",
    "    Setelah digabungkan kembali dengan membandingkan pada blok yang sama apakah data pertama lebih besar dari pada data ketengah ditambah satu, jika iya maka data ketengah ditambah satu dipindah menjadi data pertama.\n",
    "    Kemudian data pertama tadi hngga data ketengah dipindah menjadi data kedua sampai data ketengah ditambah satu.\n",
    "    Begitu seterusnya sehingga membentuk sebuah data yang tersusun dalam satu kelompok yang utuh.\n"
   ]
  },
  {
   "cell_type": "code",
   "execution_count": 5,
   "metadata": {},
   "outputs": [
    {
     "name": "stdout",
     "output_type": "stream",
     "text": [
      "Memecah List [2, 5, 60, 43, 27, 10, 89, 17]\n",
      "Memecah List [2, 5, 60, 43]\n",
      "Memecah List [2, 5]\n",
      "Memecah List [2]\n",
      "Memecah List [5]\n",
      "Menggabungkan List [5, 2]\n",
      "Memecah List [60, 43]\n",
      "Memecah List [60]\n",
      "Memecah List [43]\n",
      "Menggabungkan List [60, 43]\n",
      "Menggabungkan List [60, 43, 5, 2]\n",
      "Memecah List [27, 10, 89, 17]\n",
      "Memecah List [27, 10]\n",
      "Memecah List [27]\n",
      "Memecah List [10]\n",
      "Menggabungkan List [27, 10]\n",
      "Memecah List [89, 17]\n",
      "Memecah List [89]\n",
      "Memecah List [17]\n",
      "Menggabungkan List [89, 17]\n",
      "Menggabungkan List [89, 27, 17, 10]\n",
      "Menggabungkan List [89, 60, 43, 27, 17, 10, 5, 2]\n"
     ]
    }
   ],
   "source": [
    "def ms(list):\n",
    "    print('Memecah List', list)\n",
    "    n = len(list)\n",
    "    if n < 2:\n",
    "        return list\n",
    "    else:\n",
    "        mid=n//2\n",
    "        left=list[:mid]\n",
    "        right=list[mid:]\n",
    "        ms(left)\n",
    "        ms(right)\n",
    "        i=0\n",
    "        j=0\n",
    "        k=0\n",
    "        while i < len (left) and j < len (right):\n",
    "            if left[i]>right[j]:\n",
    "                list[k]=left[i]\n",
    "                i=i+1\n",
    "            else:\n",
    "                list[k]=right[j]\n",
    "                j=j+1\n",
    "            k=k+1\n",
    "        while i < len (left):\n",
    "            list[k]=left[i]\n",
    "            i=i+1\n",
    "            k=k+1\n",
    "        while j < len (right):\n",
    "            list[k]=right[j]\n",
    "            j=j+1\n",
    "            k=k+1\n",
    "    print('Menggabungkan List', list)\n",
    "list = [2,5,60,43,27,10,89,17]\n",
    "ms(list)"
   ]
  },
  {
   "cell_type": "code",
   "execution_count": null,
   "metadata": {},
   "outputs": [],
   "source": []
  }
 ],
 "metadata": {
  "kernelspec": {
   "display_name": "Python 3",
   "language": "python",
   "name": "python3"
  },
  "language_info": {
   "codemirror_mode": {
    "name": "ipython",
    "version": 3
   },
   "file_extension": ".py",
   "mimetype": "text/x-python",
   "name": "python",
   "nbconvert_exporter": "python",
   "pygments_lexer": "ipython3",
   "version": "3.8.5"
  }
 },
 "nbformat": 4,
 "nbformat_minor": 4
}
