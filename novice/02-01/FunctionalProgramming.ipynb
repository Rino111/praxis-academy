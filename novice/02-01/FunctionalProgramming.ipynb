{
 "cells": [
  {
   "cell_type": "markdown",
   "metadata": {},
   "source": [
    "# Pemrograman Fungsional\n",
    " \n",
    "Pemrograman Fungsional adalah gaya pengkodean yang berfokus pada menentukan apa yang harus dilakukan, daripada melakukan beberapa tindakan. Pemrograman fungsional berasal dari gaya berpikir matematis di mana Anda menentukan jenis input yang masuk ke suatu fungsi dan jenis keluaran yang dapat kita harapkan dari fungsi. Dalam kode fungsional, keluaran dari fungsi hanya bergantung pada argumen yang dilewati. Memanggil fungsi f untuk nilai x yang sama harus mengembalikan hasil yang sama f (x) tidak peduli berapa kali Anda meneruskannya. Jadi, ini membutuhkan gaya berpikir yang sangat berbeda di mana Anda jarang mengubah keadaan. Alih-alih bergerak melalui langkah-langkah, Anda menganggap data sedang mengalami transformasi dengan hasil yang diinginkan sebagai keadaan akhir.\n",
    "\n",
    "Python memiliki banyak konstruksi yang memungkinkan seorang programmer untuk mencoba-coba pemrograman fungsional. Jika Anda ingin tahu lebih banyak tentang pemrograman fungsional,"
   ]
  },
  {
   "cell_type": "markdown",
   "metadata": {},
   "source": [
    "# Karakteristik pemrograman fungsional\n",
    "Bahasa fungsional murni harus mendukung konstruksi berikut:\n",
    "\n",
    "Fungsi sebagai objek kelas pertama, yang berarti Anda harus dapat menerapkan semua konstruksi menggunakan data, ke fungsi juga.\n",
    "Fungsi murni; seharusnya tidak ada efek samping di dalamnya\n",
    "Cara dan konstruksi untuk membatasi penggunaan for loop\n",
    "Dukungan yang baik untuk rekursi\n"
   ]
  },
  {
   "cell_type": "markdown",
   "metadata": {},
   "source": [
    "# Berfungsi sebagai objek kelas pertama di python:\n",
    "Menggunakan fungsi sebagai objek kelas pertama berarti menggunakannya dengan cara yang sama seperti kita menggunakan data. Jadi, kita bisa meneruskannya sebagai parameter seperti meneruskan fungsi ke fungsi lain sebagai argumen. Misalnya, dalam contoh berikut kita bisa meneruskan fungsi int sebagai parameter ke fungsi peta."
   ]
  },
  {
   "cell_type": "code",
   "execution_count": null,
   "metadata": {},
   "outputs": [],
   "source": [
    ">>> list(map(int, [\"1\", \"2\", \"3\"]))\n",
    "[1, 2, 3]"
   ]
  },
  {
   "cell_type": "markdown",
   "metadata": {},
   "source": [
    "kita dapat menetapkannya ke variabel dan mengembalikannya. Misalnya, dalam kode berikut, kita dapat menetapkan fungsi hello_world, kemudian variabel akan dieksekusi sebagai fungsi."
   ]
  },
  {
   "cell_type": "code",
   "execution_count": null,
   "metadata": {},
   "outputs": [],
   "source": [
    ">>> def hello_world(h):\n",
    "...     def world(w):\n",
    "...         print(h, w)\n",
    "...     return world # returning functions\n",
    "...\n",
    ">>> h = hello_world # assigning\n",
    ">>> x = h(\"hello\") # assigning\n",
    ">>> x\n",
    "<function world at 0x7fec47afc668>\n",
    ">>> x(\"world\")\n",
    "('hello', 'world')"
   ]
  },
  {
   "cell_type": "markdown",
   "metadata": {},
   "source": [
    "kita dapat menyimpan fungsi dalam berbagai struktur data. Misalnya, dalam kode berikut kita dapat menyimpan beberapa fungsi dalam sebuah daftar."
   ]
  },
  {
   "cell_type": "code",
   "execution_count": null,
   "metadata": {},
   "outputs": [],
   "source": [
    ">>> function_list = [h, x]\n",
    ">>> function_list\n",
    "[<function hello_world at 0x7fec47afc5f0>, <function world at 0x7fec47afc668>]"
   ]
  },
  {
   "cell_type": "markdown",
   "metadata": {},
   "source": [
    "# Kemurnian fungsional Python:\n",
    "Ada berbagai fungsi bawaan dalam Python yang dapat membantu menghindari kode prosedural dalam fungsi. Jadi seperti ini"
   ]
  },
  {
   "cell_type": "code",
   "execution_count": null,
   "metadata": {},
   "outputs": [],
   "source": [
    "def naive_sum(list):\n",
    "    s = 0\n",
    "    for l in list:\n",
    "        s += l\n",
    "    return s"
   ]
  },
  {
   "cell_type": "code",
   "execution_count": null,
   "metadata": {},
   "outputs": [],
   "source": [
    "dapat diganti dengan konstruksi berikut:"
   ]
  },
  {
   "cell_type": "code",
   "execution_count": null,
   "metadata": {},
   "outputs": [],
   "source": [
    "sum(list)"
   ]
  },
  {
   "cell_type": "markdown",
   "metadata": {},
   "source": [
    "Demikian pula, fungsi bawaan seperti map, reduce, dan modul itertools di Python dapat digunakan untuk menghindari efek samping dalam kode kita"
   ]
  },
  {
   "cell_type": "markdown",
   "metadata": {},
   "source": [
    "# Mengurangi penggunaan loop dengan Python:\n",
    "Loop masuk ke dalam gambar saat kita ingin mengulang kumpulan objek dan menerapkan beberapa jenis logika atau fungsi."
   ]
  },
  {
   "cell_type": "code",
   "execution_count": null,
   "metadata": {},
   "outputs": [],
   "source": [
    "for x in l:\n",
    "    func(x)"
   ]
  },
  {
   "cell_type": "markdown",
   "metadata": {},
   "source": [
    "Konstruksi di atas berasal dari pemikiran tradisional yang memvisualisasikan keseluruhan program sebagai serangkaian langkah di mana kita menentukan bagaimana hal-hal perlu dilakukan. Agar lebih fungsional ini membutuhkan perubahan pola pikir. kita dapat mengganti loop for di atas dengan Python dengan cara berikut\n"
   ]
  },
  {
   "cell_type": "code",
   "execution_count": null,
   "metadata": {},
   "outputs": [],
   "source": [
    "map(func, l)"
   ]
  },
  {
   "cell_type": "markdown",
   "metadata": {},
   "source": [
    "ni dibaca sebagai \"petakan fungsi ke daftar,\" yang sesuai dengan ide kami dalam mendefinisikan pertanyaan \"apa\".\n",
    "\n",
    "Jika Anda mengambil ide ini dan menerapkannya ke eksekusi fungsi berurutan, ki mtaendapatkan konstruksi berikut."
   ]
  },
  {
   "cell_type": "code",
   "execution_count": null,
   "metadata": {},
   "outputs": [],
   "source": [
    "def func1():\n",
    "    pass\n",
    "\n",
    "def func2():\n",
    "    pass\n",
    "\n",
    "def func3():\n",
    "    pass\n",
    "\n",
    "executing = lambda f: f()\n",
    "map(executing, [func1, func2, func3])"
   ]
  },
  {
   "cell_type": "markdown",
   "metadata": {},
   "source": [
    "Harap dicatat bahwa ini tidak benar-benar menjalankan fungsi tetapi mengembalikan objek peta malas. kita harus meneruskan objek ini ke sebuah listatau fungsi lain yang ingin kode dieksekusi.."
   ]
  },
  {
   "cell_type": "markdown",
   "metadata": {},
   "source": [
    "# Rekursi Python\n",
    "Rekursi adalah metode pemecahan masalah menjadi submasalah yang pada dasarnya memiliki jenis yang sama dengan masalah aslinya. Anda memecahkan masalah dasar dan kemudian menggabungkan hasilnya. Biasanya ini melibatkan fungsi yang memanggil dirinya sendiri.\n",
    "\n",
    "Contoh rekursi mungkin seperti:\n",
    "\n",
    "makan si pangsit: 1. periksa berapa pangsit di piring 2. jika tidak ada pangsit yang tersisa berhenti makan 3. lagi makan satu pangsit 4. \"makan pangsit\"\n",
    "\n"
   ]
  },
  {
   "cell_type": "markdown",
   "metadata": {},
   "source": [
    "# Cara menerapkan rekursi dalam\n",
    "Fungsi Python mendukung rekursi dan karenanya Anda dapat memanfaatkan konstruksi pemrograman dinamis dalam kode untuk mengoptimalkannya. Rekursi pada dasarnya perlu memenuhi dua syarat. Harus ada kondisi dimana rekursi harus berakhir, dan harus memanggil dirinya sendiri untuk semua kondisi lainnya. Kondisi akhir harus membatasi; yaitu, fungsi harus memanggil versi yang lebih kecil dari dirinya sendiri.\n",
    "\n",
    "Contoh: Kode berikut menghasilkan angka Fibonacci melalui rekursi."
   ]
  },
  {
   "cell_type": "code",
   "execution_count": null,
   "metadata": {},
   "outputs": [],
   "source": [
    "def fib(n):\n",
    "    if n == 0: return 0\n",
    "    elif n == 1: return 1\n",
    "    else: return fib(n-1)+fib(n-2)"
   ]
  },
  {
   "cell_type": "markdown",
   "metadata": {},
   "source": [
    "Contoh kecil yang menunjukkan bagaimana mengubah kode prosedural menjadi kode fungsional:\n",
    "\n",
    "Mari kita lihat contoh kecil di mana Anda mencoba untuk mengubah kode prosedural menjadi fungsional. Dalam contoh di bawah ini, Anda memiliki bilangan awal yang dikuadratkan, hasilnya bertambah 1 dan hasilnya dipangkatkan 3, kode kemudian mengambil penurunan. Perhatikan bahwa kode bekerja dalam beberapa langkah."
   ]
  },
  {
   "cell_type": "code",
   "execution_count": null,
   "metadata": {},
   "outputs": [],
   "source": [
    "# procedural code\n",
    "starting_number = 96\n",
    "\n",
    "# get the square of the number\n",
    "square = starting_number ** 2\n",
    "\n",
    "# increment the number by 1\n",
    "increment = square + 1\n",
    "\n",
    "# cube of the number\n",
    "cube = increment ** 3\n",
    "\n",
    "# decrease the cube by 1\n",
    "decrement = cube - 1\n",
    "\n",
    "# get the final result\n",
    "result = print(decrement) # output 783012621312"
   ]
  },
  {
   "cell_type": "markdown",
   "metadata": {},
   "source": [
    "Kode prosedural yang sama dapat ditulis secara fungsional. Perhatikan bahwa tidak seperti kode di atas alih-alih memberikan instruksi eksplisit tentang bagaimana melakukannya, Anda memberikan instruksi tentang apa yang harus dilakukan. Fungsi di bawah ini beroperasi pada bidang abstraksi yang lebih tinggi"
   ]
  },
  {
   "cell_type": "code",
   "execution_count": null,
   "metadata": {},
   "outputs": [],
   "source": [
    "# define a function `call` where you provide the function and the arguments\n",
    "def call(x, f):\n",
    "    return f(x)\n",
    "\n",
    "# define a function that returns the square\n",
    "square = lambda x : x*x\n",
    "\n",
    "# define a function that returns the increment\n",
    "increment = lambda x : x+1\n",
    "\n",
    "# define a function that returns the cube\n",
    "cube = lambda x : x*x*x\n",
    "\n",
    "# define a function that returns the decrement\n",
    "decrement = lambda x : x-1\n",
    "\n",
    "# put all the functions in a list in the order that you want to execute them\n",
    "funcs = [square, increment, cube, decrement]\n",
    "\n",
    "# bring it all together. Below is the non functional part. \n",
    "# in functional programming you separate the functional and the non functional parts.\n",
    "from functools import reduce # reduce is in the functools library\n",
    "print(reduce(call, funcs, 96)) # output 783012621312\n"
   ]
  }
 ],
 "metadata": {
  "kernelspec": {
   "display_name": "Python 3",
   "language": "python",
   "name": "python3"
  },
  "language_info": {
   "codemirror_mode": {
    "name": "ipython",
    "version": 3
   },
   "file_extension": ".py",
   "mimetype": "text/x-python",
   "name": "python",
   "nbconvert_exporter": "python",
   "pygments_lexer": "ipython3",
   "version": "3.8.5"
  }
 },
 "nbformat": 4,
 "nbformat_minor": 4
}
