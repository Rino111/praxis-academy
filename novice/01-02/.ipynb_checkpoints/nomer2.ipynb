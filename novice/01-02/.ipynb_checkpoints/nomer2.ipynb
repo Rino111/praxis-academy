{
 "cells": [
  {
   "cell_type": "markdown",
   "metadata": {},
   "source": [
    "# 5.2 TUPLE\n",
    "Tupel digunakan untuk menyatukan banyak objek. Anggap saja mereka mirip dengan daftar, tetapi tanpa fungsionalitas ekstensif yang diberikan kelas daftar kepada Anda. Salah satu fitur utama tupel adalah bahwa mereka tidak dapat diubah seperti string, yaitu Anda tidak dapat memodifikasi tupel.\n",
    "\n",
    "Tupel didefinisikan dengan menentukan item yang dipisahkan dengan koma dalam sepasang tanda kurung opsional.\n",
    "\n",
    "Tupel biasanya digunakan dalam kasus di mana pernyataan atau fungsi yang ditentukan pengguna dapat dengan aman mengasumsikan bahwa kumpulan nilai (yaitu tupel nilai yang digunakan) tidak akan berubah.\n",
    "\n",
    "\n",
    "Tuple biasanya dibuat dengan tanda kurung seperti ini:"
   ]
  },
  {
   "cell_type": "code",
   "execution_count": 4,
   "metadata": {},
   "outputs": [
    {
     "name": "stdout",
     "output_type": "stream",
     "text": [
      "('adi', 'rino', 'ibran')\n",
      "rino\n"
     ]
    }
   ],
   "source": [
    "# membuat tuple\n",
    "nama = ('adi', 'rino', 'ibran')\n",
    "# mengakses nilai tuple\n",
    "print(nama)\n",
    "print(nama[1])\n",
    "\n"
   ]
  },
  {
   "cell_type": "markdown",
   "metadata": {},
   "source": [
    "# Memotong Tuple\n",
    "Sama seperti list, di Tuple juga kita bisa melakukan slicing.\n",
    "\n",
    "Contoh:"
   ]
  },
  {
   "cell_type": "code",
   "execution_count": 11,
   "metadata": {},
   "outputs": [
    {
     "name": "stdout",
     "output_type": "stream",
     "text": [
      "('alan', 'arofah', 'rino')\n"
     ]
    }
   ],
   "source": [
    "# mula-mula kita punya tuple seperti ini\n",
    "nama = ('fahmi', 'alan', 'arofah', 'rino', 'adi')\n",
    "\n",
    "# lalu kita ingin potong agar ditampilkan\n",
    "# dari indeks nomer 1 sampai 4\n",
    "print(nama[1:4])"
   ]
  },
  {
   "cell_type": "markdown",
   "metadata": {},
   "source": [
    "# Mengambil Panjang Tuple\n",
    "Untuk mengambil panjang atau jumlah item di dalam Tuple, kita bisa menggunakan fungsi len().\n",
    "\n",
    "Contoh:"
   ]
  },
  {
   "cell_type": "code",
   "execution_count": 13,
   "metadata": {},
   "outputs": [
    {
     "name": "stdout",
     "output_type": "stream",
     "text": [
      "Jumlah hari: 7\n"
     ]
    }
   ],
   "source": [
    "# Membuat Tuple\n",
    "hari = ('Senin', 'Selasa', 'Rabu', 'Kamis', 'Jumat', 'Sabtu', 'Minggu')\n",
    "\n",
    "# Mengambil panjang tuple hari\n",
    "print(\"Jumlah hari: %d\" % len(hari))"
   ]
  },
  {
   "cell_type": "markdown",
   "metadata": {},
   "source": [
    "# 5.3 DICTONARY\n",
    "Dictionary adalah stuktur data yang bentuknya seperti kamus. Ada kata kunci kemudian ada nilaninya. Kata kunci harus unik, sedangkan nilai boleh diisi denga apa saja.\n",
    "\n",
    "Contoh:"
   ]
  },
  {
   "cell_type": "code",
   "execution_count": null,
   "metadata": {},
   "outputs": [],
   "source": [
    "saya = {\n",
    "    \"nama\": \"Primitif Property\",\n",
    "    \"url:\" \"https://www.primitifproperty.com\"\n",
    "}"
   ]
  },
  {
   "cell_type": "markdown",
   "metadata": {},
   "source": [
    "Pada contoh di atas kita membuat sebuah Dictionary bernama saya dengan isi data nama dan URL. nama dan url adalah kunci (key) yang akan kita gunakan untuk mengakses nilai di dalamnya\n",
    "\n",
    "Inilah perbedaanya dibandingkan list dan tuple. Dictionary memiliki kunci berupa teks—bisa juga angka—sedangkan list dan tuple menggunakan indeks berupa angka saja untuk mengakses nilainya\n",
    "\n",
    "Dalam bahasa pemrograman lain (seperti PHP), Dictionary juga dikenal dengan sebutan asosiatif array"
   ]
  },
  {
   "cell_type": "markdown",
   "metadata": {},
   "source": [
    "# Membuat Dictionary\n",
    "Hal yang wajib ada di dalam pembuatan Dictionary adalah:\n",
    "\n",
    "    nama dictionary,\n",
    "    key,\n",
    "    value,\n",
    "    buka dan tutupnya menggunakan kurung kurawal.\n",
    "\n",
    "Antara key dan value dipisah dengan titik dua (:) dan apabila terdapat lebih dari satu item, maka dipisah dengan tanda koma (,).\n"
   ]
  },
  {
   "cell_type": "code",
   "execution_count": null,
   "metadata": {},
   "outputs": [],
   "source": [
    "#contoh satu item\n",
    "nama_dict = {\n",
    "    \"key\": \"value\"\n",
    "}\n"
   ]
  },
  {
   "cell_type": "code",
   "execution_count": null,
   "metadata": {},
   "outputs": [],
   "source": [
    "# contoh tiga iteme\n",
    "nama_dict = {\n",
    "    \"key1\": \"value\",\n",
    "    \"key2\": \"value\",\n",
    "    \"key3\": \"value\"\n",
    "}\n"
   ]
  },
  {
   "cell_type": "markdown",
   "metadata": {},
   "source": [
    "Isi dari Dictionary dapat berupa:\n",
    "\n",
    "    String\n",
    "    Integer\n",
    "    Objek\n",
    "    List\n",
    "    Tuple\n",
    "    Dictionary\n",
    "    dsb.\n",
    "    "
   ]
  },
  {
   "cell_type": "code",
   "execution_count": 21,
   "metadata": {},
   "outputs": [
    {
     "name": "stdout",
     "output_type": "stream",
     "text": [
      "Nama saya adalah Rino Priatama\n",
      "instagram: @mbahjaelani\n"
     ]
    }
   ],
   "source": [
    "# Membuat Dictionary\n",
    "rinopriatama = {\n",
    "    \"nama\": \"Rino Priatama\",\n",
    "    \"umur\": 22,\n",
    "    \"hobi\": [\"mendaki\", \"traveling\", \"sepeda\"],\n",
    "    \"menikah\": False,\n",
    "    \"sosmed\": {\n",
    "        \"facebook\": \"mbahjaelani\",\n",
    "        \"instagram\": \"@mbahjaelani\"\n",
    "    } \n",
    "}\n",
    "\n",
    "# Mengakses isi dictionary\n",
    "#Cara mengaksesnya sama seperti list. Namaun kunci yang digunakan bukan angka, \n",
    "#melainkan keyword yang sudah kita tentukan di dalam Dictionary-nya.\n",
    "\n",
    "print(\"Nama saya adalah %s\" % rinopriatama[\"nama\"])\n",
    "print(\"instagram: %s\" % rinopriatama[\"sosmed\"][\"instagram\"])"
   ]
  },
  {
   "cell_type": "markdown",
   "metadata": {},
   "source": [
    "Selain dengan cara di atas, kita juga bisa mengambil nilai Dictionary dengan method get()."
   ]
  },
  {
   "cell_type": "code",
   "execution_count": 22,
   "metadata": {},
   "outputs": [
    {
     "name": "stdout",
     "output_type": "stream",
     "text": [
      "Rino Priatama\n"
     ]
    }
   ],
   "source": [
    "#Contoh:\n",
    "\n",
    "print(rinopriatama.get(\"nama\"))\n"
   ]
  },
  {
   "cell_type": "markdown",
   "metadata": {},
   "source": [
    "# Menggunakan Perulangan\n",
    "Untuk mencetak semua isi Dictionary, kita bisa menggunakan perulangan seperti ini:"
   ]
  },
  {
   "cell_type": "code",
   "execution_count": 23,
   "metadata": {},
   "outputs": [
    {
     "name": "stdout",
     "output_type": "stream",
     "text": [
      "primitifproperty\n",
      "https://www.primitifproperty.com\n",
      "5\n"
     ]
    }
   ],
   "source": [
    "# Membuat dictionary\n",
    "web = {\n",
    "    \"name\": \"primitifproperty\",\n",
    "    \"url\": \"https://www.primitifproperty.com\",\n",
    "    \"rank\": \"5\"\n",
    "}\n",
    "\n",
    "# Mencetak isi dictionary dengan perulangan\n",
    "for key in web:\n",
    "    print(web[key])\n"
   ]
  },
  {
   "cell_type": "markdown",
   "metadata": {},
   "source": [
    "# Mengubah Nilai Item Dictionary\n",
    "Dictionary bersifat mutable, artinya nilainya dapat kita ubah-ubah. Untuk mengubah nilai Dictionary, kita bisa lakukan seperti ini:"
   ]
  },
  {
   "cell_type": "code",
   "execution_count": 27,
   "metadata": {},
   "outputs": [
    {
     "name": "stdout",
     "output_type": "stream",
     "text": [
      "traveling\n",
      "mendaki\n"
     ]
    }
   ],
   "source": [
    "#membuat dictioanary\n",
    "hobi = {\n",
    "    \"utama\": \"traveling\",\n",
    "    \"lainnya\": [\"membaca\",\"menulis\", \"masak\"]\n",
    "}\n",
    "\n",
    "#Mencetak isi skill utama\n",
    "print(hobi[\"utama\"])\n",
    "\n",
    "# engubah isi skill utama\n",
    "hobi[\"utama\"] = \"mendaki\"\n",
    "\n",
    "#Mencetak isi skill utama\n",
    "print(hobi[\"utama\"])"
   ]
  },
  {
   "cell_type": "markdown",
   "metadata": {},
   "source": [
    "# Menambahkan Item ke Dictionary\n",
    "Kita bisa menggunakan method update() untuk menambahkan isi ke Dictionary. Parameternya berupa Dictionary.\n",
    "\n",
    "Selain berfungsi untuk menambahkan, method ini juga berfungsi untuk mengubah nilai dictionary apabila kunci yang dimasukkan sudah ada di dalamnya."
   ]
  },
  {
   "cell_type": "code",
   "execution_count": 31,
   "metadata": {},
   "outputs": [
    {
     "name": "stdout",
     "output_type": "stream",
     "text": [
      "{'name': 'pintumedia', 'password': 'kitabisa'}\n",
      "{'name': 'pintumediakita', 'password': 'kitabisa'}\n"
     ]
    }
   ],
   "source": [
    "# membuat dictionary user\n",
    "user = {\n",
    "    \"name\": \"pintumedia\"\n",
    "}\n",
    "\n",
    "# menambahkan password\n",
    "user.update({\"password\": \"kitabisa\"})\n",
    "\n",
    "print(user)\n",
    "\n",
    "# update name\n",
    "user.update({\"name\": \"pintumediakita\"})\n",
    "\n",
    "print(user)\n"
   ]
  },
  {
   "cell_type": "markdown",
   "metadata": {},
   "source": [
    "# Mengambil Panjang Dictionary\n",
    "Untuk mengambil jumlah data atau panjang Dictionary, kita bisa menggunakan fungsi len()."
   ]
  },
  {
   "cell_type": "code",
   "execution_count": 32,
   "metadata": {},
   "outputs": [
    {
     "name": "stdout",
     "output_type": "stream",
     "text": [
      "total buku: 3\n"
     ]
    }
   ],
   "source": [
    "# membuat dictonary\n",
    "buku = {\n",
    "    \"sejarah\": \"Mengetahui sejarah indonesia\",\n",
    "    \"memasak\": \"Tutorial memasak\",\n",
    "    \"matematika\": \"Menghitung dengan benar \"\n",
    "}\n",
    "\n",
    "# mencetak jumlah data yang ada di dalam dictionary\n",
    "print(\"total buku: %d\" % len(buku))"
   ]
  },
  {
   "cell_type": "markdown",
   "metadata": {},
   "source": [
    "# SETS\n",
    "Set adalah koleksi objek sederhana yang tidak berurutan. Ini digunakan ketika keberadaan suatu objek dalam koleksi lebih penting daripada urutan atau berapa kali itu terjadi.\n",
    "\n",
    "Dengan menggunakan set, Anda dapat menguji keanggotaan, apakah itu himpunan bagian dari himpunan lain, menemukan perpotongan antara dua himpunan, dan seterusnya.\n",
    "\n"
   ]
  },
  {
   "cell_type": "code",
   "execution_count": 34,
   "metadata": {},
   "outputs": [
    {
     "name": "stdout",
     "output_type": "stream",
     "text": [
      "{1, 'd', 2, 3, 4, 'c', 'b', 'a'}\n",
      "{1, 2, 3, 4, 5, 6}\n"
     ]
    }
   ],
   "source": [
    "# set dengan nlai campuran\n",
    "data = {'a','b','c','d',1,2,3,4}\n",
    "print (data)\n",
    " \n",
    "# set tidak menampung nilai yang sama\n",
    "x = {1,2,3,4,5,6,1,2,3,4}\n",
    "print (x)"
   ]
  },
  {
   "cell_type": "markdown",
   "metadata": {},
   "source": [
    "# Menambahkan anggota dalam Set\n",
    "Untuk menambahkan ke anggota Set kita bisa menggunakan Fungsi Add yang memang disediakan oleh Python ataupun dengan menggunakan fungsi update"
   ]
  },
  {
   "cell_type": "code",
   "execution_count": 35,
   "metadata": {},
   "outputs": [
    {
     "name": "stdout",
     "output_type": "stream",
     "text": [
      "{1, 'd', 2, 3, 4, 'c', 'b', 'a'}\n",
      "{1, 'd', 2, 3, 4, 10, 'c', 'b', 'a'}\n",
      "{1, 'd', 2, 3, 4, 10, 11, 12, 13, 'c', 'b', 'a'}\n"
     ]
    }
   ],
   "source": [
    "data = {'a','b','c','d',1,2,3,4}\n",
    "print (data)\n",
    " \n",
    "# tambahkan nilai 10 untuk anggota set dengan menggunakan fungsi add()\n",
    "data.add(10)\n",
    "print(data)\n",
    " \n",
    "# tambahkan nilai 11,12,13 untuk anggota set dengan menggunakan fungsi update()\n",
    "data.update([11,12,13])\n",
    "print(data)"
   ]
  },
  {
   "cell_type": "markdown",
   "metadata": {},
   "source": [
    "# Menghapus Anggota Set\n",
    "KIta bisa menghapus Anggota Set dengan fungsi remove() dan discard()"
   ]
  },
  {
   "cell_type": "code",
   "execution_count": 36,
   "metadata": {},
   "outputs": [
    {
     "name": "stdout",
     "output_type": "stream",
     "text": [
      "{1, 'd', 2, 3, 4, 'c', 'b', 'a'}\n",
      "{1, 'd', 2, 4, 'c', 'b', 'a'}\n"
     ]
    },
    {
     "ename": "KeyError",
     "evalue": "5",
     "output_type": "error",
     "traceback": [
      "\u001b[0;31m---------------------------------------------------------------------------\u001b[0m",
      "\u001b[0;31mKeyError\u001b[0m                                  Traceback (most recent call last)",
      "\u001b[0;32m<ipython-input-36-9e670d9909ef>\u001b[0m in \u001b[0;36m<module>\u001b[0;34m\u001b[0m\n\u001b[1;32m      5\u001b[0m \u001b[0mdata\u001b[0m\u001b[0;34m.\u001b[0m\u001b[0mremove\u001b[0m\u001b[0;34m(\u001b[0m\u001b[0;36m3\u001b[0m\u001b[0;34m)\u001b[0m\u001b[0;34m\u001b[0m\u001b[0;34m\u001b[0m\u001b[0m\n\u001b[1;32m      6\u001b[0m \u001b[0mprint\u001b[0m\u001b[0;34m(\u001b[0m\u001b[0mdata\u001b[0m\u001b[0;34m)\u001b[0m\u001b[0;34m\u001b[0m\u001b[0;34m\u001b[0m\u001b[0m\n\u001b[0;32m----> 7\u001b[0;31m \u001b[0mdata\u001b[0m\u001b[0;34m.\u001b[0m\u001b[0mremove\u001b[0m\u001b[0;34m(\u001b[0m\u001b[0;36m5\u001b[0m\u001b[0;34m)\u001b[0m\u001b[0;34m\u001b[0m\u001b[0;34m\u001b[0m\u001b[0m\n\u001b[0m\u001b[1;32m      8\u001b[0m \u001b[0mprint\u001b[0m\u001b[0;34m(\u001b[0m\u001b[0mdata\u001b[0m\u001b[0;34m)\u001b[0m\u001b[0;34m\u001b[0m\u001b[0;34m\u001b[0m\u001b[0m\n",
      "\u001b[0;31mKeyError\u001b[0m: 5"
     ]
    }
   ],
   "source": [
    "data = {'a','b','c','d',1,2,3,4}\n",
    "print (data)\n",
    " \n",
    "# menghapus anggota menggunakan fungsi remove()\n",
    "data.remove(3)\n",
    "print(data)\n",
    "data.remove(5)\n",
    "print(data)"
   ]
  },
  {
   "cell_type": "markdown",
   "metadata": {},
   "source": [
    "untuk mengapus data menggunakn fungsi remove(),akan menampilkan eror jika data yang akan dihapus tidak termasuk kedalam anggota tipe data set"
   ]
  },
  {
   "cell_type": "code",
   "execution_count": 37,
   "metadata": {},
   "outputs": [
    {
     "name": "stdout",
     "output_type": "stream",
     "text": [
      "{1, 'd', 2, 3, 4, 'c', 'b', 'a'}\n",
      "{1, 'd', 2, 4, 'c', 'b', 'a'}\n",
      "{1, 'd', 2, 4, 'c', 'b', 'a'}\n"
     ]
    }
   ],
   "source": [
    "data = {'a','b','c','d',1,2,3,4}\n",
    "print (data)\n",
    " \n",
    "# menghapus anggota menggunakan fungsi discard()\n",
    "data.discard(3)\n",
    "print(data)\n",
    "data.discard(5)\n",
    "print(data)"
   ]
  },
  {
   "cell_type": "markdown",
   "metadata": {},
   "source": [
    "sedangkan jika menggunakan fungsi discard() untuk mengapus dari anggota tipe data set tidak akan menampilkan eror"
   ]
  },
  {
   "cell_type": "markdown",
   "metadata": {},
   "source": [
    "# Bab 6 MODULE\n",
    "Modul adalah sebuah file yang berisi kode pemrograman python. Sebuah file yang berisi kode python, misalnya: example.py, disebut modul dan nama modulnya adalah example.\n",
    "\n",
    "Modul digunakan untuk memecah sebuah program besar menjadi file – file yang lebih kecil agar lebih mudah dimanage dan diorganisir. Modul membuat kode bersifat reusable, artinya satu modul bisa dipakai berulang dimana saja diperlukan.\n",
    "\n",
    "Modul memungkinkan Anda untuk secara logis mengatur kode Python Anda.\n",
    "Menetapkan kode yang relevan ke dalam modul untuk membuat kode Anda lebih mudah digunakan, lebih dimengerti.\n",
    "modul python adalah obyek dengan atribut nama acak digunakan untuk mengikat atau referensi.\n",
    "Sederhananya, modul adalah kode Python untuk menyimpan file. Modul dapat menentukan fungsi, kelas dan variabel. Modul dapat berisi kode executable"
   ]
  },
  {
   "cell_type": "code",
   "execution_count": null,
   "metadata": {},
   "outputs": [],
   "source": [
    "\n",
    "\n",
    "def tambah (a,b):\n",
    "    print(a,'+',b,'=',a+b)\n",
    "    print('penambahan')\n",
    "\n",
    "def perkalian(a,b):\n",
    "    print('perkalian')\n",
    "    return a + b\n",
    "    \n",
    "#simpan file dengan nama matematika.py\n",
    "\n"
   ]
  },
  {
   "cell_type": "code",
   "execution_count": null,
   "metadata": {},
   "outputs": [],
   "source": [
    "import matematika         #pemanggilan file matematika\n",
    "\n",
    "matematika.tambah(6,5)\n",
    "perkalian = matematika.perkalian(9,5)\n",
    "\n",
    "#simpan file dengan nama main.py"
   ]
  },
  {
   "cell_type": "markdown",
   "metadata": {},
   "source": [
    "# Bab 7 Input dan Output¶\n",
    "Input adalah masukan yang kita berikan ke program.\n",
    "Program akan memprosesnya dan menampilkan hasil outputnya.\n",
    "Input, proses, dan output adalah inti dari semua program komputer."
   ]
  },
  {
   "cell_type": "markdown",
   "metadata": {},
   "source": [
    "Untuk menginput nilai kita menggunakan fungsi input() fungsi ini akan memungkinkan kita untuk memasukan nilai dari layar console di command prompt, lalu kemudian mengembalikan nilai saat kita menekan tombol enter (newline). "
   ]
  },
  {
   "cell_type": "markdown",
   "metadata": {},
   "source": [
    "Dalam python setiap data yang di input akan dianggap sebagai teks (string). Jika kita menginput data dengan tipe yang maka perlu dikonversi sesuai dengan tipe yang dikehendaki.\n",
    "\n",
    "# Input Tipe Karakter (String)"
   ]
  },
  {
   "cell_type": "code",
   "execution_count": 2,
   "metadata": {},
   "outputs": [
    {
     "name": "stdin",
     "output_type": "stream",
     "text": [
      "Masukan nama kamu :  rino\n"
     ]
    },
    {
     "name": "stdout",
     "output_type": "stream",
     "text": [
      "Halo rino\n"
     ]
    }
   ],
   "source": [
    "nama = input(\"Masukan nama kamu : \")\n",
    "print(\"Halo \"+nama)\n"
   ]
  },
  {
   "cell_type": "markdown",
   "metadata": {},
   "source": [
    "Sintak diatas saya membuat variabel nama dengan nilai yang akan diinput dari keyboard saat program dijalankan"
   ]
  },
  {
   "cell_type": "markdown",
   "metadata": {},
   "source": [
    "# Menampilkan Ouput Dengan Format Tertentu\n",
    "Dalam python kita dapat membuat format tertentu dengan menggunakan fungsi print(). Format disesuaikan dengan nilai yang ingin ditampilkan, apakah berupah teks, karakter, bilangan bulat atau bilangan riil."
   ]
  },
  {
   "cell_type": "markdown",
   "metadata": {},
   "source": [
    "No\tFormat\tKeterangan\n",
    "1\t%d\tBilangan bulat\n",
    "2\t%f\tBilangan riil\n",
    "3\t%c\tKarakter\n",
    "4\t%s\tTeks"
   ]
  },
  {
   "cell_type": "code",
   "execution_count": 3,
   "metadata": {},
   "outputs": [
    {
     "name": "stdin",
     "output_type": "stream",
     "text": [
      "Masukan nama lengkap kamu :  rino\n"
     ]
    },
    {
     "name": "stdout",
     "output_type": "stream",
     "text": [
      "Halo rino\n"
     ]
    }
   ],
   "source": [
    "#contoh\n",
    "\n",
    "nama = input(\"Masukan nama lengkap kamu : \")\n",
    "print(\"Halo %s\" % nama)"
   ]
  },
  {
   "cell_type": "markdown",
   "metadata": {},
   "source": [
    "Apabila kita ingin membuat format dengan jumlah lebih dari satu maka setiap argumennya akan di apit dengan tanda kurung, dan dipisahkan dengan tanda koma."
   ]
  },
  {
   "cell_type": "code",
   "execution_count": 5,
   "metadata": {},
   "outputs": [
    {
     "name": "stdin",
     "output_type": "stream",
     "text": [
      "Masukan nama lengkap kamu :  Rino Priatama\n",
      "Masukan Jurusan :  Informatika\n"
     ]
    },
    {
     "name": "stdout",
     "output_type": "stream",
     "text": [
      "Halo Rino Priatama jurusan kamu adalah Informatika\n"
     ]
    }
   ],
   "source": [
    "nama = input(\"Masukan nama lengkap kamu : \")\n",
    "jurusan = input(\"Masukan Jurusan : \")\n",
    "print(\"Halo %s jurusan kamu adalah %s\" %(nama,jurusan))"
   ]
  },
  {
   "cell_type": "code",
   "execution_count": null,
   "metadata": {},
   "outputs": [],
   "source": [
    "\n"
   ]
  },
  {
   "cell_type": "markdown",
   "metadata": {},
   "source": [
    "# Errors and Exceptions \n",
    "\n",
    "# Syntax Errors\n",
    "Syntax Errors adalah suatu keadaan saat kode python mengalami kesalahan penulisan. Python interpreter dapat mendeteksi kesalahan ini saat kode dieksekusi.\n",
    "Syntax error, atau dikenal juga sebagai parsing error, adalah error ketika Python memparsing program anda."
   ]
  },
  {
   "cell_type": "code",
   "execution_count": 1,
   "metadata": {},
   "outputs": [
    {
     "ename": "SyntaxError",
     "evalue": "invalid syntax (<ipython-input-1-4edd03dadac5>, line 1)",
     "output_type": "error",
     "traceback": [
      "\u001b[0;36m  File \u001b[0;32m\"<ipython-input-1-4edd03dadac5>\"\u001b[0;36m, line \u001b[0;32m1\u001b[0m\n\u001b[0;31m    Print 'halo'\u001b[0m\n\u001b[0m          ^\u001b[0m\n\u001b[0;31mSyntaxError\u001b[0m\u001b[0;31m:\u001b[0m invalid syntax\n"
     ]
    }
   ],
   "source": [
    "Print 'halo'\n",
    "  File \"<stdin>\", line 1\n",
    "  Print 'halo'"
   ]
  },
  {
   "cell_type": "markdown",
   "metadata": {},
   "source": [
    "Pengurai parser mengulangi baris yang menyinggung dan menampilkan sedikit 'arrow' yang menunjuk pada titik paling awal di baris di mana kesalahan terdeteksi. Kesalahan disebabkan oleh (atau setidaknya terdeteksi pada) token preceding panah: dalam contoh, kesalahan terdeteksi pada fungsi print(), karena titik dua (':')) hilang sebelum itu. Nama file dan nomor baris dicetak sehingga Anda tahu ke mana harus mencari kalau-kalau masukan berasal dari skrip."
   ]
  },
  {
   "cell_type": "markdown",
   "metadata": {},
   "source": [
    "# Exceptions\n",
    "Exceptions adalah suatu keadaan saat penulisan syntax sudah benar, namun kesalahan terjadi karena syntax tidak bisa dijalankan. Banyak hal yang menyebabkan terjadinya Exceptions, mulai dari kesalahan matematika, kesalahan nama function, kesalahan library, dan lain-lain.\n",
    "\n",
    "Bahkan jika suatu pernyataan atau ungkapan secara sintaksis benar, itu dapat menyebabkan kesalahan ketika suatu usaha dilakukan untuk mengeksekusinya. Kesalahan yang terdeteksi selama eksekusi disebut exceptions dan tidak fatal tanpa syarat: Anda akan segera belajar cara menanganinya dalam program Python. Namun, sebagian besar pengecualian tidak ditangani oleh program, dan menghasilkan pesan kesalahan seperti yang ditunjukkan di sini:"
   ]
  },
  {
   "cell_type": "code",
   "execution_count": 4,
   "metadata": {},
   "outputs": [
    {
     "ename": "SyntaxError",
     "evalue": "invalid syntax (<ipython-input-4-cbe54af3301f>, line 2)",
     "output_type": "error",
     "traceback": [
      "\u001b[0;36m  File \u001b[0;32m\"<ipython-input-4-cbe54af3301f>\"\u001b[0;36m, line \u001b[0;32m2\u001b[0m\n\u001b[0;31m    Ketikkan sesuatu: Traceback (most recent call last):\u001b[0m\n\u001b[0m             ^\u001b[0m\n\u001b[0;31mSyntaxError\u001b[0m\u001b[0;31m:\u001b[0m invalid syntax\n"
     ]
    }
   ],
   "source": [
    "teks = raw_input('Ketikkan sesuatu: ')\n",
    "Ketikkan sesuatu: Traceback (most recent call last):\n",
    "  File \"<stdin>\", line 1, in <module>"
   ]
  },
  {
   "cell_type": "markdown",
   "metadata": {},
   "source": [
    "# Penanganan Exception¶\n",
    "Kita dapat menangani eksepsi menggunakan statemen try ... except. Sederhananya kita letakkan statemen yang mungkin mengeluarkan eksepsi kedalam try-block, dan letakan kode penanganan eksepsi kedapam except-block."
   ]
  },
  {
   "cell_type": "code",
   "execution_count": 10,
   "metadata": {},
   "outputs": [
    {
     "ename": "SyntaxError",
     "evalue": "invalid syntax (<ipython-input-10-d5a50b18c0ed>, line 5)",
     "output_type": "error",
     "traceback": [
      "\u001b[0;36m  File \u001b[0;32m\"<ipython-input-10-d5a50b18c0ed>\"\u001b[0;36m, line \u001b[0;32m5\u001b[0m\n\u001b[0;31m    except ValueError:\u001b[0m\n\u001b[0m    ^\u001b[0m\n\u001b[0;31mSyntaxError\u001b[0m\u001b[0;31m:\u001b[0m invalid syntax\n"
     ]
    }
   ],
   "source": [
    "while True:\n",
    "    try:\n",
    "        x = int(input(\"Please enter a number: \"))\n",
    "        break\n",
    "        except ValueError:\n",
    "            print(\"Oops!  That was no valid number.  Try again...\")"
   ]
  },
  {
   "cell_type": "code",
   "execution_count": 7,
   "metadata": {},
   "outputs": [
    {
     "name": "stdout",
     "output_type": "stream",
     "text": [
      "OS error: [Errno 2] No such file or directory: 'myfile.txt'\n"
     ]
    }
   ],
   "source": [
    "import sys\n",
    "\n",
    "try:\n",
    "    f = open('myfile.txt')\n",
    "    s = f.readline()\n",
    "    i = int(s.strip())\n",
    "except OSError as err:\n",
    "    print(\"OS error: {0}\".format(err))\n",
    "except ValueError:\n",
    "    print(\"Could not convert data to an integer.\")\n",
    "except:\n",
    "    print(\"Unexpected error:\", sys.exc_info()[0])\n",
    "    raise"
   ]
  },
  {
   "cell_type": "code",
   "execution_count": null,
   "metadata": {},
   "outputs": [],
   "source": []
  },
  {
   "cell_type": "code",
   "execution_count": null,
   "metadata": {},
   "outputs": [],
   "source": []
  }
 ],
 "metadata": {
  "kernelspec": {
   "display_name": "Python 3",
   "language": "python",
   "name": "python3"
  },
  "language_info": {
   "codemirror_mode": {
    "name": "ipython",
    "version": 3
   },
   "file_extension": ".py",
   "mimetype": "text/x-python",
   "name": "python",
   "nbconvert_exporter": "python",
   "pygments_lexer": "ipython3",
   "version": "3.8.5"
  }
 },
 "nbformat": 4,
 "nbformat_minor": 4
}
