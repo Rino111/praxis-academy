{
 "cells": [
  {
   "cell_type": "markdown",
   "metadata": {},
   "source": [
    "# Pengertian UML\n",
    "UML Yang dimaksud dengan UML adalah UML merupakan singkatan dari “Unified Modelling Language” yaitu suatu metode permodelan secara visual untuk sarana perancangan system berorientasi objek, atau definisi UML yaitu sebagai suatu bahasa yang sudah menjadi standar pada visualisasi, perancangan dan juga pendokumentasian sistem software. Saat ini UML sudah menjadi bahasa standar dalam penulisan blue print software.\n",
    "\n",
    "# Tujuan atau fungsi dari penggunaan UML\n",
    "Dapat memberikan bahasa permodelan visual kepada pengguna dari berbagai macam pemerograman maupun proses rekayasa.\n",
    "Dapat menyatukan praktek-praktek terbaik yang ada dalam permodelan.\n",
    "Dapat memberikan model yang siap untuk digunakan, merupakan bahasa permodelan visual yang ekspresif untuk mengembangkan system dan untuk saling menukar model secara mudah.\n",
    "Dapat berguna sebagai blue print, sebab sangat lengkap dan detail dalam perancangannya yang nantinya akan diketahui informasi yang detail mengenai koding suatu program.\n",
    "Dapat memodelkan sistem yang berkonsep berorientasi objek, jadi tidak hanya digunakan untuk memodelkan perangkat lunak (software) saja.\n",
    "Dapat menciptakan suatu bahasa permodelan yang nantinya dapat dipergunakan oleh manusia maupun oleh mesin.\n",
    "\n",
    "\n",
    "\n",
    "\n",
    "\n",
    "# Kegunaan UML\n",
    "UML digunakan untuk memodelkan suatu sistem (bukan hanya perangkat lunak) yang menggunakan konsep berorientasi object. Dan juga untuk menciptakan suatu bahasa pemodelan yang dapat digunakan baik oleh manusia maupun mesin. Jadi,UML dibuat untuk memudahkan para system developer untuk berdiskusi dengan bahasa pemodelan yang mudah dipahami.\n",
    "\n",
    "# Pengertian UML\n",
    "UML adalah bahasa untuk menspesifikasi,memvisualisasi, membangun dan mendokumentasikan artifacts (bagian dari informasi yang digunakan untuk dihasilkan oleh proses pembuatan perangkat lunak, artifact tersebut dapat berupa model, deskripsi atau perangkat lunak)dari sistem perangkat lunak,seperti pada pemodelan bisnis dan sistem non perangkat lunak lainnya. Selain itu UML adalah bahasa pemodelan yang menggunakan konsep orientasi object.UML dibuat oleh Grady Booch, James Rumbaugh, dan Ivar Jacobson di bawah bendera Rational Software Corps. UML menyediakan notasi-notasi yang membantu memodelkan sistem dari berbagai prespetktif. UML tidak hanya digunakan dalam pemodelan perangkat lunak, namun hampir dalam semua bidang yang membutuhkan pemodelan.\n",
    "\n",
    "# Area Penggunaan UML\n",
    "UML digunakan paling efektif pada domain seperti :\n",
    "\n",
    "Sistem Informasi Perusahaan\n",
    "Sistem Perbankan dan Perekonomian\n",
    "Bidang Telekomunikasi\n",
    "Bidang Transportasi\n",
    "Bidang Penerbangan\n",
    "Bidang Perdagangan\n",
    "Bidang Pelayanan Elekronik\n",
    "Bidang Pengetahuan\n",
    "Bidang Pelayanan Berbasis Web Terdistribusi\n",
    "\n",
    "# Bagian-bagian UML\n",
    "Bagian-bagian utama dari UML adalah view, diagram, model element, dan general mechanism.\n",
    "\n",
    "- View digunakan untuk melihat sistem yang dimodelkan dari beberapa aspek yang berbeda.\n",
    "- Use case View Mendeskripsikan fungsionalitas sistem yang seharusnya dilakukan sesuai yang diinginkan external actors. Actor yang berinteraksi dengan sistem dapat berupa user atau sistem lainnya.\n",
    "- Logical View Mendeskripsikan bagaimana fungsionalitas dari sistem, struktur statis (class, object, dan relationship ) dan kolaborasi dinamis yang terjadi ketika object mengirim pesan ke object lain dalam suatu fungsi tertentu.\n",
    "- Component View Mendeskripsikan implementasi dan ketergantungan modul.\n",
    "- Concurrency View Membagi sistem ke dalam proses dan prosesor.\n",
    "- Deployment View Mendeskripsikan fisik dari sistem seperti komputer dan perangkat (nodes) dan bagaimana  hubungannya dengan lainnya\n"
   ]
  }
 ],
 "metadata": {
  "kernelspec": {
   "display_name": "Python 3",
   "language": "python",
   "name": "python3"
  },
  "language_info": {
   "codemirror_mode": {
    "name": "ipython",
    "version": 3
   },
   "file_extension": ".py",
   "mimetype": "text/x-python",
   "name": "python",
   "nbconvert_exporter": "python",
   "pygments_lexer": "ipython3",
   "version": "3.8.5"
  }
 },
 "nbformat": 4,
 "nbformat_minor": 4
}
