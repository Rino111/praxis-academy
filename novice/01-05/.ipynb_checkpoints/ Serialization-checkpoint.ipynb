{
 "cells": [
  {
   "cell_type": "markdown",
   "metadata": {},
   "source": [
    "# Serialisasi\n",
    "Dalam konteks penyimpanan dan transmisi data pada ilmu komputer, serialisasi adalah proses pengubahan suatu objek menjadi urutan bit agar dapat disimpan pada media penyimpanan (seperti berkas komputer, atau pada memori) atau ditransmisikan melalui saluran koneksi jaringan. Sewaktu rangkaian bit ini dibaca ulang sesuai dengan format serialisasinya, ia dapat digunakan untuk menciptakan klon identik semantis dari objek asalnya. Bagi banyak objek kompleks, misalnya objek yang banyak menggunakan rujukan, proses ini tidak dapat dilakukan begitu saja.\n",
    "\n",
    "Proses serialisasi suatu objek ini dapat juga disebut pengempisan (deflating) atau penyusunan (marshalling) objek. Operasi kebalikannya, pembuatan struktur data dari rangkaian bita, adalah deserialisasi, atau disebut juga penggembungan (inflating) atau pembongkaran (unmarshalling) objek.\n",
    "\n",
    "# Serialisasi Data\n",
    "Serialisasi data adalah proses mengubah data terstruktur ke dalam format yang memungkinkan berbagi atau penyimpanan data dalam bentuk yang memungkinkan pemulihan dari struktur aslinya. Dalam beberapa kasus, tujuan kedua dari serialisasi data adalah untuk meminimalkan ukuran data yang kemudian mengurangi ruang disk atau kebutuhan bandwidth.\n",
    "\n",
    "# Flat vs. Nested\n",
    "Sebelum mulai membuat serialisasi data, penting untuk mengidentifikasi atau memutuskan bagaimana data harus disusun selama serialisasi data - datar atau bersarang. Perbedaan kedua gaya tersebut ditunjukkan pada contoh di bawah ini.\n"
   ]
  },
  {
   "cell_type": "code",
   "execution_count": null,
   "metadata": {},
   "outputs": [],
   "source": [
    "# Flat style:\n",
    "{ \"Type\" : \"A\", \"field1\": \"value1\", \"field2\": \"value2\", \"field3\": \"value3\" }"
   ]
  },
  {
   "cell_type": "markdown",
   "metadata": {},
   "source": [
    "# contoh Flat Data\n",
    "File Sederhana ( flat data )\n",
    "\n",
    "Jika data yang akan diserialkan terletak dalam sebuah file dan berisi data datar, Python menawarkan dua metode untuk membuat serial data.\n",
    "# repr\n",
    "Metode repr di Python mengambil satu parameter objek dan mengembalikan representasi input yang dapat dicetak:\n",
    "\n"
   ]
  },
  {
   "cell_type": "code",
   "execution_count": null,
   "metadata": {},
   "outputs": [],
   "source": [
    "# input as flat text\n",
    "a =  { \"Type\" : \"A\", \"field1\": \"value1\", \"field2\": \"value2\", \"field3\": \"value3\" }\n",
    "\n",
    "# input yang sama juga dapat dibaca dari file\n",
    "a = open('/tmp/file.py', 'r')\n",
    "\n",
    "# mengembalikan representasi input yang dapat dicetak;\n",
    "# output juga dapat ditulis ke file\n",
    "print(repr(a))\n",
    "\n",
    "# menulis konten ke file menggunakan repr\n",
    "with open('/tmp/file.py') as f:f.write(repr(a))\n"
   ]
  },
  {
   "cell_type": "markdown",
   "metadata": {},
   "source": [
    "# ast.literal_eval¶\n",
    "Metode literal_eval dengan aman mem-parsing dan mengevaluasi ekspresi untuk tipe data Python. Tipe data yang didukung adalah: string, numbers, tuple, list, dicts, boolean, dan None."
   ]
  },
  {
   "cell_type": "code",
   "execution_count": null,
   "metadata": {},
   "outputs": [],
   "source": [
    "with open('/tmp/file.py', 'r') as f: inp = ast.literal_eval(f.read())"
   ]
  },
  {
   "cell_type": "markdown",
   "metadata": {},
   "source": [
    "# CSV file (flat data)\n",
    "Modul CSV di Python mengimplementasikan kelas untuk membaca dan menulis data tabel dalam format CSV"
   ]
  },
  {
   "cell_type": "markdown",
   "metadata": {},
   "source": [
    "Contoh sederhana untuk membaca"
   ]
  },
  {
   "cell_type": "code",
   "execution_count": null,
   "metadata": {},
   "outputs": [],
   "source": [
    "# Membaca konten CSV dari file\n",
    "import csv\n",
    "with open('/tmp/file.csv', newline='') as f:\n",
    "    reader = csv.reader(f)\n",
    "    for row in reader:\n",
    "        print(row)\n"
   ]
  },
  {
   "cell_type": "markdown",
   "metadata": {},
   "source": [
    "Contoh sederhana untuk menulis:"
   ]
  },
  {
   "cell_type": "code",
   "execution_count": null,
   "metadata": {},
   "outputs": [],
   "source": [
    "# Menulis konten CSV ke file\n",
    "import csv\n",
    "with open('/temp/file.csv', 'w', newline='') as f:\n",
    "    writer = csv.writer(f)\n",
    "    writer.writerows(iterable)\n"
   ]
  },
  {
   "cell_type": "markdown",
   "metadata": {},
   "source": [
    "# YAML (nested data)\n",
    "Ada banyak modul pihak ketiga untuk mengurai dan membaca / menulis struktur file YAML dengan Python"
   ]
  },
  {
   "cell_type": "code",
   "execution_count": null,
   "metadata": {},
   "outputs": [],
   "source": [
    "# Membaca konten YAML dari file menggunakan metode load\n",
    "import yaml\n",
    "with open('/tmp/file.yaml', 'r', newline='') as f:\n",
    "    try:\n",
    "        print(yaml.load(f))\n",
    "    except yaml.YAMLError as ymlexcp:\n",
    "        print(ymlexcp)\n"
   ]
  },
  {
   "cell_type": "markdown",
   "metadata": {},
   "source": [
    "# JSON file (nested data)\n",
    "Modul JSON Python dapat digunakan untuk membaca dan menulis file JSON. Kode contoh ada di bawah"
   ]
  },
  {
   "cell_type": "markdown",
   "metadata": {},
   "source": [
    "Reading:"
   ]
  },
  {
   "cell_type": "code",
   "execution_count": null,
   "metadata": {},
   "outputs": [],
   "source": [
    "# Membaca konten JSON dari file\n",
    "import json\n",
    "with open('/tmp/file.json', 'r') as f:\n",
    "    data = json.load(f)"
   ]
  },
  {
   "cell_type": "markdown",
   "metadata": {},
   "source": [
    "Writing:"
   ]
  },
  {
   "cell_type": "code",
   "execution_count": null,
   "metadata": {},
   "outputs": [],
   "source": [
    "# Menulis konten JSON ke file menggunakan metode dump\n",
    "import json\n",
    "with open('/tmp/file.json', 'w') as f:\n",
    "    json.dump(data, f, sort_keys=True)\n"
   ]
  },
  {
   "cell_type": "markdown",
   "metadata": {},
   "source": [
    "# XML (nested data)\n",
    "Penguraian XML dengan Python dapat dilakukan dengan menggunakan paket xml.\n"
   ]
  },
  {
   "cell_type": "code",
   "execution_count": null,
   "metadata": {},
   "outputs": [],
   "source": [
    "Contoh:"
   ]
  },
  {
   "cell_type": "code",
   "execution_count": null,
   "metadata": {},
   "outputs": [],
   "source": [
    "# membaca konten XML dari file\n",
    "import xml.etree.ElementTree as ET\n",
    "tree = ET.parse('country_data.xml')\n",
    "root = tree.getroot()\n"
   ]
  },
  {
   "cell_type": "markdown",
   "metadata": {},
   "source": [
    "# Binary\n",
    "# NumPy Array (flat data)\n",
    "Array Python NumPy dapat digunakan untuk membuat serial dan deserialisasi data ke dan dari representasi byte."
   ]
  },
  {
   "cell_type": "code",
   "execution_count": null,
   "metadata": {},
   "outputs": [],
   "source": [
    "Contoh:"
   ]
  },
  {
   "cell_type": "code",
   "execution_count": null,
   "metadata": {},
   "outputs": [],
   "source": [
    "import NumPy as np\n",
    "\n",
    "# Converting NumPy array to byte format\n",
    "byte_output = np.array([ [1, 2, 3], [4, 5, 6], [7, 8, 9] ]).tobytes()\n",
    "\n",
    "# Mengubah format byte kembali ke array NumPy\n",
    "array_format = np.frombuffer(byte_output)"
   ]
  },
  {
   "cell_type": "markdown",
   "metadata": {},
   "source": [
    "# Pickle (nested data)¶\n",
    "Modul serialisasi data asli untuk Python disebut Pickle.\n"
   ]
  },
  {
   "cell_type": "code",
   "execution_count": null,
   "metadata": {},
   "outputs": [],
   "source": [
    "import pickle\n",
    "\n",
    "# Berikut adalah contoh dict\n",
    "grades = { 'Alice': 89, 'Bob': 72, 'Charles': 87 }\n",
    "\n",
    "#Gunakan dump untuk mengonversi objek menjadi string serial\n",
    "serial_grades = pickle.dumps( grades )\n",
    "\n",
    "#Gunakan beban untuk membatalkan serialisasi objek\n",
    "received_grades = pickle.loads( serial_grades )\n"
   ]
  },
  {
   "cell_type": "code",
   "execution_count": null,
   "metadata": {},
   "outputs": [],
   "source": []
  },
  {
   "cell_type": "code",
   "execution_count": null,
   "metadata": {},
   "outputs": [],
   "source": []
  }
 ],
 "metadata": {
  "kernelspec": {
   "display_name": "Python 3",
   "language": "python",
   "name": "python3"
  },
  "language_info": {
   "codemirror_mode": {
    "name": "ipython",
    "version": 3
   },
   "file_extension": ".py",
   "mimetype": "text/x-python",
   "name": "python",
   "nbconvert_exporter": "python",
   "pygments_lexer": "ipython3",
   "version": "3.8.5"
  }
 },
 "nbformat": 4,
 "nbformat_minor": 4
}
