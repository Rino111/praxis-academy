{
 "cells": [
  {
   "cell_type": "markdown",
   "metadata": {},
   "source": [
    "# Serialisasi\n",
    "Dalam konteks penyimpanan dan transmisi data pada ilmu komputer, serialisasi adalah proses pengubahan suatu objek menjadi urutan bit agar dapat disimpan pada media penyimpanan (seperti berkas komputer, atau pada memori) atau ditransmisikan melalui saluran koneksi jaringan. Sewaktu rangkaian bit ini dibaca ulang sesuai dengan format serialisasinya, ia dapat digunakan untuk menciptakan klon identik semantis dari objek asalnya. Bagi banyak objek kompleks, misalnya objek yang banyak menggunakan rujukan, proses ini tidak dapat dilakukan begitu saja.\n",
    "\n",
    "Proses serialisasi suatu objek ini dapat juga disebut pengempisan (deflating) atau penyusunan (marshalling) objek. Operasi kebalikannya, pembuatan struktur data dari rangkaian bita, adalah deserialisasi, atau disebut juga penggembungan (inflating) atau pembongkaran (unmarshalling) objek.\n",
    "\n",
    "# Serialisasi Data\n",
    "Serialisasi data adalah proses mengubah data terstruktur ke dalam format yang memungkinkan berbagi atau penyimpanan data dalam bentuk yang memungkinkan pemulihan dari struktur aslinya. Dalam beberapa kasus, tujuan kedua dari serialisasi data adalah untuk meminimalkan ukuran data yang kemudian mengurangi ruang disk atau kebutuhan bandwidth.\n",
    "\n",
    "# Flat vs. Nested\n",
    "Sebelum mulai membuat serialisasi data, penting untuk mengidentifikasi atau memutuskan bagaimana data harus disusun selama serialisasi data - datar atau bersarang. Perbedaan kedua gaya tersebut ditunjukkan pada contoh di bawah ini.\n"
   ]
  },
  {
   "cell_type": "code",
   "execution_count": null,
   "metadata": {},
   "outputs": [],
   "source": [
    "# Flat style:\n",
    "{ \"Type\" : \"A\", \"field1\": \"value1\", \"field2\": \"value2\", \"field3\": \"value3\" }"
   ]
  },
  {
   "cell_type": "markdown",
   "metadata": {},
   "source": [
    "# contoh Flat Data\n",
    "File Sederhana ( flat data )\n",
    "\n",
    "Jika data yang akan diserialkan terletak dalam sebuah file dan berisi data datar, Python menawarkan dua metode untuk membuat serial data.\n",
    "# repr\n",
    "Metode repr di Python mengambil satu parameter objek dan mengembalikan representasi input yang dapat dicetak:\n",
    "\n"
   ]
  },
  {
   "cell_type": "code",
   "execution_count": null,
   "metadata": {},
   "outputs": [],
   "source": [
    "# input as flat text\n",
    "a =  { \"Type\" : \"A\", \"field1\": \"value1\", \"field2\": \"value2\", \"field3\": \"value3\" }\n",
    "\n",
    "# input yang sama juga dapat dibaca dari file\n",
    "a = open('/tmp/file.py', 'r')\n",
    "\n",
    "# mengembalikan representasi input yang dapat dicetak;\n",
    "# output juga dapat ditulis ke file\n",
    "print(repr(a))\n",
    "\n",
    "# menulis konten ke file menggunakan repr\n",
    "with open('/tmp/file.py') as f:f.write(repr(a))\n"
   ]
  },
  {
   "cell_type": "markdown",
   "metadata": {},
   "source": [
    "# ast.literal_eval¶\n",
    "Metode literal_eval dengan aman mem-parsing dan mengevaluasi ekspresi untuk tipe data Python. Tipe data yang didukung adalah: string, numbers, tuple, list, dicts, boolean, dan None."
   ]
  },
  {
   "cell_type": "code",
   "execution_count": null,
   "metadata": {},
   "outputs": [],
   "source": [
    "with open('/tmp/file.py', 'r') as f: inp = ast.literal_eval(f.read())"
   ]
  },
  {
   "cell_type": "markdown",
   "metadata": {},
   "source": [
    "# CSV file (flat data)\n",
    "Modul CSV di Python mengimplementasikan kelas untuk membaca dan menulis data tabel dalam format CSV"
   ]
  },
  {
   "cell_type": "markdown",
   "metadata": {},
   "source": [
    "Contoh sederhana untuk membaca"
   ]
  },
  {
   "cell_type": "code",
   "execution_count": null,
   "metadata": {},
   "outputs": [],
   "source": [
    "# Membaca konten CSV dari file\n",
    "import csv\n",
    "with open('/tmp/file.csv', newline='') as f:\n",
    "    reader = csv.reader(f)\n",
    "    for row in reader:\n",
    "        print(row)\n"
   ]
  },
  {
   "cell_type": "markdown",
   "metadata": {},
   "source": [
    "Contoh sederhana untuk menulis:"
   ]
  },
  {
   "cell_type": "code",
   "execution_count": null,
   "metadata": {},
   "outputs": [],
   "source": [
    "# Menulis konten CSV ke file\n",
    "import csv\n",
    "with open('/temp/file.csv', 'w', newline='') as f:\n",
    "    writer = csv.writer(f)\n",
    "    writer.writerows(iterable)\n"
   ]
  },
  {
   "cell_type": "markdown",
   "metadata": {},
   "source": [
    "# YAML (nested data)\n",
    "Ada banyak modul pihak ketiga untuk mengurai dan membaca / menulis struktur file YAML dengan Python"
   ]
  },
  {
   "cell_type": "code",
   "execution_count": null,
   "metadata": {},
   "outputs": [],
   "source": [
    "# Membaca konten YAML dari file menggunakan metode load\n",
    "import yaml\n",
    "with open('/tmp/file.yaml', 'r', newline='') as f:\n",
    "    try:\n",
    "        print(yaml.load(f))\n",
    "    except yaml.YAMLError as ymlexcp:\n",
    "        print(ymlexcp)\n"
   ]
  },
  {
   "cell_type": "markdown",
   "metadata": {},
   "source": [
    "# JSON file (nested data)\n",
    "Modul JSON Python dapat digunakan untuk membaca dan menulis file JSON. Kode contoh ada di bawah"
   ]
  },
  {
   "cell_type": "code",
   "execution_count": null,
   "metadata": {},
   "outputs": [],
   "source": [
    "# Nested style:\n",
    "\n",
    "{\"A\"\n",
    "    { \"field1\": \"value1\", \"field2\": \"value2\", \"field3\": \"value3\" } }"
   ]
  },
  {
   "cell_type": "code",
   "execution_count": null,
   "metadata": {},
   "outputs": [],
   "source": []
  }
 ],
 "metadata": {
  "kernelspec": {
   "display_name": "Python 3",
   "language": "python",
   "name": "python3"
  },
  "language_info": {
   "codemirror_mode": {
    "name": "ipython",
    "version": 3
   },
   "file_extension": ".py",
   "mimetype": "text/x-python",
   "name": "python",
   "nbconvert_exporter": "python",
   "pygments_lexer": "ipython3",
   "version": "3.8.5"
  }
 },
 "nbformat": 4,
 "nbformat_minor": 4
}
