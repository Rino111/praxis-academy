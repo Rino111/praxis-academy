{
 "cells": [
  {
   "cell_type": "markdown",
   "metadata": {},
   "source": [
    "# Object-Oriented Programming (OOP)\n",
    "\n",
    "OOP (Object Oriented Programming) adalah suatu metode pemrograman yang berorientasi kepada objek. Tujuan dari OOP diciptakan adalah untuk mempermudah pengembangan program dengan cara mengikuti model yang telah ada di kehidupan sehari-hari. Jadi setiap bagian dari suatu permasalahan adalah objek, nah objek itu sendiri merupakan gabungan dari beberapa objek yang lebih kecil lagi. Saya ambil contoh Pesawat, Pesawat adalah sebuah objek. Pesawat itu sendiri terbentuk dari beberapa objek yang lebih kecil lagi seperti mesin, roda, baling-baling, kursi, dll. Pesawat sebagai objek yang terbentuk dari objek-objek yang lebih kecil saling berhubungan, berinteraksi, berkomunikasi dan saling mengirim pesan kepada objek-objek yang lainnya. Begitu juga dengan program, sebuah objek yang besar dibentuk dari beberapa objek yang lebih kecil, objek-objek itu saling berkomunikasi, dan saling berkirim pesan kepada objek yang lain.\n"
   ]
  },
  {
   "cell_type": "markdown",
   "metadata": {},
   "source": [
    "# Konsep dasar dari object oriented programming\n",
    "\n",
    "# Klass \n",
    "(Kelas), adalah kerangka dasar dari objek yang akan diciptakan, bisa berupa struktur yang mendefinisikan data atau method dari objek. Contoh penamaan kelas adalah: Motor, Laptop, Anggota, dan lainnya.\n",
    "\n",
    "# Property, \n",
    "adalah data yang dimiliki oleh class. Contohnya pada class Motor, memiliki property sebagai berikut:\n",
    "- Tipe\n",
    "- Warna\n",
    "- Produsen\n",
    "# Method, \n",
    "adalah perilaku dari sebuah class. Bisa juga disebut  sebagai tindakan yang bisa dilakukan oleh suatu class. Contoh pada class Motor, memiliki method sebagai berikut:\n",
    "- Start, method untuk menjalankan motor\n",
    "- Stop, method untuk menghentikan laju motor\n",
    "- Ganti Gigi, method untuk ganti gigi\n",
    "- Turn, method untuk belok kiri atau kanan\n",
    "\n",
    "# Variabel Kelas, \n",
    "merupakan variabel yang dibagikan oleh semua turunan dari kelas. Variabel kelas didefinisikan di dalam kelas, tapi di luar method yang ada di dalam kelas tersebut.\n",
    "# Data Member,\n",
    "merupakan variabel penyimpan data yang berhubungan dengan kelas dan objek\n",
    "# Overloading\n",
    "Fungsi, merupakan fungsi yang namanya sama di dalam kelas, tetapi jumlah dan tipe argumennya berbeda. Sehingga bisa dilakukan beberapa hal yang berbeda.\n",
    "# Overloading Operator, \n",
    "merupakan pembuatan beberapa fungsi untuk satu operator.\n",
    "# Variabel Instansiasi, \n",
    "merupakan variabel yang didefinisikan di dalam suatu method dan hanya menjadi milik dari satu kelas.\n",
    "# Pewarisan,\n",
    "merupakan pewarisan karakteristik dari sebuah kelas kepada kelas lain yang menjadi turunannya.\n",
    "# Instansiasi, \n",
    "merupakan pembuatan objek dari suatu kelas."
   ]
  },
  {
   "cell_type": "code",
   "execution_count": 7,
   "metadata": {},
   "outputs": [
    {
     "name": "stdout",
     "output_type": "stream",
     "text": [
      "Nama : rino\n",
      "Nilai : 100\n",
      "\n",
      "Nama : ibran\n",
      "Nilai : 70\n",
      "\n",
      "Nama : adi\n",
      "Nilai : 80\n",
      "\n",
      "Nama : iqlima\n",
      "Nilai : 90\n",
      "\n",
      "Nama : akhsan\n",
      "Nilai : 90\n",
      "\n",
      "total mahasiswa: 5\n"
     ]
    }
   ],
   "source": [
    "\n",
    "\n",
    "class Mahasiswa:\n",
    "    '''Dasar kelas untuk semua karyawan'''\n",
    "    jumlah_mahasiswa = 0\n",
    "\n",
    "    def __init__(self, nama, nilai):\n",
    "        self.nama = nama\n",
    "        self.nilai = nilai\n",
    "        Mahasiswa.jumlah_mahasiswa += 1\n",
    "\n",
    "    def tampilkan_jumlah(self):\n",
    "        print(\"Total mahasiswa:\", Mahasiswa.jumlah_mahasiswa)\n",
    "\n",
    "    def tampilkan_profil(self):\n",
    "        print(\"Nama :\", self.nama)\n",
    "        print(\"Nilai :\", self.nilai)\n",
    "        print()\n",
    "        \n",
    "mahasiswa1 = Mahasiswa('rino', 100)\n",
    "mahasiswa2 = Mahasiswa('ibran', 70)\n",
    "mahasiswa3 = Mahasiswa('adi', 80)\n",
    "mahasiswa4 = Mahasiswa('iqlima', 90)\n",
    "mahasiswa5 = Mahasiswa('akhsan', 90)\n",
    "\n",
    "\n",
    "\n",
    "mahasiswa1.tampilkan_profil()\n",
    "mahasiswa2.tampilkan_profil()\n",
    "mahasiswa3.tampilkan_profil()\n",
    "mahasiswa4.tampilkan_profil()\n",
    "mahasiswa5.tampilkan_profil()\n",
    "\n",
    "\n",
    "print(\"total mahasiswa:\", Mahasiswa.jumlah_mahasiswa )\n",
    "\n"
   ]
  },
  {
   "cell_type": "markdown",
   "metadata": {},
   "source": [
    "# CRC\n",
    "Dalam perancangan sebuah perangkat lunak, salah satu tahap yang paling penting adalah membuat CRC Card dan Class Diagram. CRC Card berguna untuk mendeskripsikan kelas apa saja yanng akan dipakai beserta fungsionalitas yang dibutuhkan dan hubungannya dengan kelas lain\n",
    "\n",
    "CRC memiliki 3 bagian yaitu Class, Responsibilities, dan Collaborator.\n",
    "\n",
    "Responsibilities merupakan hal-hal yang dikerjakan dan yang diketahui oleh suatu Class. Collaborator merupakan class lain yang berinteraksi untuk dapat memenuhi Responsibilities suatu Class. \n"
   ]
  },
  {
   "cell_type": "markdown",
   "metadata": {},
   "source": [
    "| ClasName      |             |\n",
    "    | :---          |    :----:   |\n",
    "    | Responsibility   | Collaborator        |\n",
    "    \n",
    "    \n"
   ]
  },
  {
   "cell_type": "markdown",
   "metadata": {},
   "source": [
    " contoh CRC Cards : Touris\n",
    " \n",
    "   |Class: Touris    |                |\n",
    "    |  :----          |:------         |\n",
    "    | Responsibility: | Collaborators: |\n",
    "    | - Melihat Peta lokasi dan rute wisata             | - RoadMap             |\n",
    "    | - Melakukan boking dan riservasi hotel            | - Hotel REservation   |\n",
    "    | - Memberikan informasi terkait tempat wisata      | - Contribution        | \n",
    "    | - Melakukan Pendaftaran Pada Website              |                       | "
   ]
  },
  {
   "cell_type": "markdown",
   "metadata": {},
   "source": [
    "   |Class: RoadMap    |                |\n",
    "    |  :----          |:------         |\n",
    "    | Responsibility: | Collaborators: |\n",
    "    | - Menunjukan lokasi peta berdasarkan pencarian tertentu  |            |\n",
    "    | - Mencari rute terpendek dari wisata tersebut            | - Tourist  |\n",
    "    | - Menampilkan lokasi saat ini                            |            |"
   ]
  },
  {
   "cell_type": "markdown",
   "metadata": {},
   "source": [
    "  |Class: HotelResevation   |                |\n",
    "    |  :----          |:------         |\n",
    "    | Responsibility: | Collaborators: |\n",
    "    | - Menampilkan tentang penyewaan hotel                         |            |\n",
    "    | - Memberikan informasi terkait fasilitas dan layanan hotel    | - Tourist  |\n",
    "    "
   ]
  },
  {
   "cell_type": "markdown",
   "metadata": {},
   "source": [
    "  |Class: Contribution     |                |\n",
    "    |  :----          |:------         |\n",
    "    | Responsibility: | Collaborators: |\n",
    "    | - Menerima informasi baru terkait tempat wista    |            |\n",
    "    | - Memberikan informasi baru dilokasi wisata       | - Tourist  |"
   ]
  },
  {
   "cell_type": "markdown",
   "metadata": {},
   "source": [
    "Dapat dilihat pada gambar diatas terdapat 4 kartu CRC yang masing-masing memiliki Responsibilities dan juga Collaborator berbeda yang saling terkait untuk dapat terciptanya suatu sistem informasi yang berjalan dengan baik"
   ]
  },
  {
   "cell_type": "markdown",
   "metadata": {},
   "source": [
    "# Standard Library Python\n",
    "Standard Library adalah kumpulan modul yang mempermudah dalam melakukan tugas tertentu untuk menghasilkan solusi dari suatu permasalahan tertentu.\n",
    "\n",
    "Standard library ini sudah termasuk dalam instalasi Python, kita tidak perlu menambahkan atau mendownload lagi.\n",
    "\n",
    "Sebagai contoh, kita dapat melakukan cukup banyak hal dengan standard library Python\n",
    "\n",
    "- Program untuk melakukan backup rutin pada Linux, Solaris dan Mac, library standard yang dapat digunakan adalah   os, stat, bz2, gzip, time, datetime, tar dan optparse\n",
    "- Program Apache log file analysis tool menggunakan modul optparse, urlparse, cgi, datetime, operator, re, sys,  and mmap.\n",
    "- Program sederhana web API clients cukup menggunakan library urllib/urllib2, ElementTree, dan xml package\n",
    "- Program MySQL backup script menggunakan sys, os, time, shutil, glob, tarfile, dan optparse modules."
   ]
  },
  {
   "cell_type": "markdown",
   "metadata": {},
   "source": [
    "# Module Math\n",
    "Modul math berisi fungsi-fungsi matematika"
   ]
  },
  {
   "cell_type": "code",
   "execution_count": 20,
   "metadata": {},
   "outputs": [
    {
     "data": {
      "text/plain": [
       "9.0"
      ]
     },
     "execution_count": 20,
     "metadata": {},
     "output_type": "execute_result"
    }
   ],
   "source": [
    "#akar kuadrat\n",
    "import math\n",
    "math.sqrt(81)"
   ]
  },
  {
   "cell_type": "code",
   "execution_count": 22,
   "metadata": {},
   "outputs": [
    {
     "name": "stdout",
     "output_type": "stream",
     "text": [
      "pi =  3.141592653589793\n",
      "e =  2.718281828459045\n"
     ]
    }
   ],
   "source": [
    "# konstanta\n",
    "print ('pi = ', math.pi)\n",
    "print ('e = ', math.e)\n"
   ]
  },
  {
   "cell_type": "code",
   "execution_count": 24,
   "metadata": {},
   "outputs": [
    {
     "data": {
      "text/plain": [
       "4096.0"
      ]
     },
     "execution_count": 24,
     "metadata": {},
     "output_type": "execute_result"
    }
   ],
   "source": [
    "\n",
    "# pangkat\n",
    "math.pow(2, 12)\n"
   ]
  },
  {
   "cell_type": "code",
   "execution_count": 62,
   "metadata": {},
   "outputs": [
    {
     "name": "stdout",
     "output_type": "stream",
     "text": [
      "sin 90 derajat =  1.0\n"
     ]
    }
   ],
   "source": [
    "# trigonometri\n",
    "print ('sin 90 derajat = ', math.sin(math.radians(90)))"
   ]
  },
  {
   "cell_type": "code",
   "execution_count": 63,
   "metadata": {},
   "outputs": [
    {
     "name": "stdout",
     "output_type": "stream",
     "text": [
      "log 8 =  2.0794415416798357\n",
      "log 8 basis 10 =  0.9030899869919434\n",
      "log 8 basis 10 =  0.9030899869919435\n"
     ]
    }
   ],
   "source": [
    "# logaritma\n",
    "print ('log 8 = ', math.log(8))\n",
    "print ('log 8 basis 10 = ', math.log(8, 10))\n",
    "print ('log 8 basis 10 = ', math.log10(8))"
   ]
  },
  {
   "cell_type": "code",
   "execution_count": 64,
   "metadata": {},
   "outputs": [
    {
     "name": "stdout",
     "output_type": "stream",
     "text": [
      "1! = 1\n",
      "2! = 2\n",
      "3! = 6\n",
      "4! = 24\n",
      "5! = 120\n",
      "6! = 720\n",
      "7! = 5040\n",
      "8! = 40320\n",
      "9! = 362880\n",
      "10! = 3628800\n"
     ]
    }
   ],
   "source": [
    "# faktorial, n!\n",
    "for i in range(1, 11):\n",
    "    print ('%s! = %s' % (i, math.factorial(i)))"
   ]
  },
  {
   "cell_type": "markdown",
   "metadata": {},
   "source": [
    "# Modul datetime\n",
    "Modul datetime berisi fungsi dan class untuk operasi tanggal dan waktu.ster."
   ]
  },
  {
   "cell_type": "code",
   "execution_count": 41,
   "metadata": {},
   "outputs": [
    {
     "name": "stdout",
     "output_type": "stream",
     "text": [
      "Hari :  14\n",
      "Bulan :  10\n",
      "Tahun :  2020\n",
      "Jam :  14\n",
      "Menit :  19\n",
      "Detik :  10\n",
      "selisih detik :  5.026475\n"
     ]
    }
   ],
   "source": [
    "# contoh penggunaan module datetime\n",
    "\n",
    "import datetime\n",
    "import time\n",
    "\n",
    "sekarang = datetime.datetime.now()\n",
    "\n",
    "tanggal = sekarang.date()\n",
    "waktu = sekarang.time()\n",
    "\n",
    "print ('Hari : ', tanggal.day)\n",
    "print ('Bulan : ', tanggal.month)\n",
    "print ('Tahun : ', tanggal.year)\n",
    "print ('Jam : ', waktu.hour)\n",
    "print ('Menit : ', waktu.minute)\n",
    "print ('Detik : ', waktu.second)\n",
    "\n",
    "time.sleep(5)\n",
    "\n",
    "sekarang2 = datetime.datetime.now()\n",
    "\n",
    "delta = sekarang2 - sekarang\n",
    "\n",
    "print ('selisih detik : ', delta.total_seconds())"
   ]
  },
  {
   "cell_type": "markdown",
   "metadata": {},
   "source": [
    "# Modul sys\n",
    "\n",
    "Modul sys digunakan untuk mengakses konfigurasi interpreter pada saat runtime dan berinteraksi dengan environment sistem operasi."
   ]
  },
  {
   "cell_type": "code",
   "execution_count": 50,
   "metadata": {},
   "outputs": [
    {
     "name": "stdout",
     "output_type": "stream",
     "text": [
      "versi python:  3.8.5 (default, Jul 28 2020, 12:59:40) \n",
      "[GCC 9.3.0]\n"
     ]
    }
   ],
   "source": [
    "# versi python\n",
    "print ('versi python: ', sys.version)"
   ]
  },
  {
   "cell_type": "code",
   "execution_count": 52,
   "metadata": {},
   "outputs": [
    {
     "name": "stdout",
     "output_type": "stream",
     "text": [
      "['/home/rinopriatama/.local/lib/python3.8/site-packages/ipykernel_launcher.py', '-f', '/home/rinopriatama/.local/share/jupyter/runtime/kernel-779b566a-111f-4450-adfe-e95f063adc2c.json']\n"
     ]
    }
   ],
   "source": [
    "# argumen terminal\n",
    "print (sys.argv)"
   ]
  },
  {
   "cell_type": "code",
   "execution_count": 53,
   "metadata": {},
   "outputs": [
    {
     "name": "stdout",
     "output_type": "stream",
     "text": [
      "platform :  linux\n"
     ]
    }
   ],
   "source": [
    "# platform\n",
    "print ('platform : ', sys.platform)"
   ]
  },
  {
   "cell_type": "code",
   "execution_count": 54,
   "metadata": {},
   "outputs": [
    {
     "name": "stdout",
     "output_type": "stream",
     "text": [
      "executable :  /usr/bin/python3\n"
     ]
    }
   ],
   "source": [
    "# letak python interpreter\n",
    "print ('executable : ', sys.executable)"
   ]
  },
  {
   "cell_type": "code",
   "execution_count": 55,
   "metadata": {},
   "outputs": [
    {
     "name": "stdout",
     "output_type": "stream",
     "text": [
      "byteorder :  little\n"
     ]
    }
   ],
   "source": [
    "# byteorder\n",
    "print ('byteorder : ', sys.byteorder)\n"
   ]
  },
  {
   "cell_type": "code",
   "execution_count": 57,
   "metadata": {},
   "outputs": [
    {
     "name": "stdout",
     "output_type": "stream",
     "text": [
      "modul built-in :  ('_abc', '_ast', '_bisect', '_blake2', '_codecs', '_collections', '_csv', '_datetime', '_elementtree', '_functools', '_heapq', '_imp', '_io', '_locale', '_md5', '_operator', '_pickle', '_posixsubprocess', '_random', '_sha1', '_sha256', '_sha3', '_sha512', '_signal', '_socket', '_sre', '_stat', '_statistics', '_string', '_struct', '_symtable', '_thread', '_tracemalloc', '_warnings', '_weakref', 'array', 'atexit', 'binascii', 'builtins', 'cmath', 'errno', 'faulthandler', 'fcntl', 'gc', 'grp', 'itertools', 'marshal', 'math', 'posix', 'pwd', 'pyexpat', 'select', 'spwd', 'sys', 'syslog', 'time', 'unicodedata', 'xxsubtype', 'zlib')\n"
     ]
    }
   ],
   "source": [
    "# module built-in\n",
    "print ('modul built-in : ', sys.builtin_module_names)\n"
   ]
  },
  {
   "cell_type": "code",
   "execution_count": 58,
   "metadata": {},
   "outputs": [
    {
     "name": "stdout",
     "output_type": "stream",
     "text": [
      "path import :  ['/home/rinopriatama/praxis-academy/novice/01-03', '/usr/lib/python38.zip', '/usr/lib/python3.8', '/usr/lib/python3.8/lib-dynload', '', '/home/rinopriatama/.local/lib/python3.8/site-packages', '/usr/local/lib/python3.8/dist-packages', '/usr/lib/python3/dist-packages', '/home/rinopriatama/.local/lib/python3.8/site-packages/IPython/extensions', '/home/rinopriatama/.ipython']\n"
     ]
    }
   ],
   "source": [
    "# path import\n",
    "print ('path import : ', sys.path)"
   ]
  },
  {
   "cell_type": "markdown",
   "metadata": {},
   "source": [
    "# Modul random\n",
    "Modul random menyediakan fast pseudorandom number generator berdasarkan algoritma Mersenne Twister.\n"
   ]
  },
  {
   "cell_type": "code",
   "execution_count": 65,
   "metadata": {},
   "outputs": [
    {
     "name": "stdout",
     "output_type": "stream",
     "text": [
      "bilangan random antara 0<= n < 1.0 :  0.8009641741769862\n",
      "bilangan random antara 0<= n < 1.0 :  0.056689361238481895\n",
      "bilangan random antara 0<= n < 1.0 :  0.8125828216129007\n",
      "bilangan random antara 1<= n <= 100 :  55\n",
      "bilangan random antara 1<= n <= 100 :  48\n",
      "bilangan random antara 1<= n <= 100 :  5\n"
     ]
    }
   ],
   "source": [
    "# contoh penggunaan modul random\n",
    "\n",
    "import random\n",
    "\n",
    "print ('bilangan random antara 0<= n < 1.0 : ', random.random())\n",
    "print ('bilangan random antara 0<= n < 1.0 : ', random.random())\n",
    "print ('bilangan random antara 0<= n < 1.0 : ', random.random())\n",
    "\n",
    "# random integer\n",
    "print ('bilangan random antara 1<= n <= 100 : ', random.randint(1, 100))\n",
    "print ('bilangan random antara 1<= n <= 100 : ', random.randint(1, 100))\n",
    "print ('bilangan random antara 1<= n <= 100 : ', random.randint(1, 100))\n"
   ]
  },
  {
   "cell_type": "markdown",
   "metadata": {},
   "source": []
  },
  {
   "cell_type": "code",
   "execution_count": null,
   "metadata": {},
   "outputs": [],
   "source": []
  },
  {
   "cell_type": "code",
   "execution_count": null,
   "metadata": {},
   "outputs": [],
   "source": []
  }
 ],
 "metadata": {
  "kernelspec": {
   "display_name": "Python 3",
   "language": "python",
   "name": "python3"
  },
  "language_info": {
   "codemirror_mode": {
    "name": "ipython",
    "version": 3
   },
   "file_extension": ".py",
   "mimetype": "text/x-python",
   "name": "python",
   "nbconvert_exporter": "python",
   "pygments_lexer": "ipython3",
   "version": "3.8.5"
  }
 },
 "nbformat": 4,
 "nbformat_minor": 4
}
