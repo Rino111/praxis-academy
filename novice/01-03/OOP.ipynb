{
 "cells": [
  {
   "cell_type": "markdown",
   "metadata": {},
   "source": [
    "# Object-Oriented Programming (OOP)\n",
    "\n",
    "OOP (Object Oriented Programming) adalah suatu metode pemrograman yang berorientasi kepada objek. Tujuan dari OOP diciptakan adalah untuk mempermudah pengembangan program dengan cara mengikuti model yang telah ada di kehidupan sehari-hari. Jadi setiap bagian dari suatu permasalahan adalah objek, nah objek itu sendiri merupakan gabungan dari beberapa objek yang lebih kecil lagi. Saya ambil contoh Pesawat, Pesawat adalah sebuah objek. Pesawat itu sendiri terbentuk dari beberapa objek yang lebih kecil lagi seperti mesin, roda, baling-baling, kursi, dll. Pesawat sebagai objek yang terbentuk dari objek-objek yang lebih kecil saling berhubungan, berinteraksi, berkomunikasi dan saling mengirim pesan kepada objek-objek yang lainnya. Begitu juga dengan program, sebuah objek yang besar dibentuk dari beberapa objek yang lebih kecil, objek-objek itu saling berkomunikasi, dan saling berkirim pesan kepada objek yang lain.\n"
   ]
  },
  {
   "cell_type": "markdown",
   "metadata": {},
   "source": [
    "# Konsep dasar dari object oriented programming\n",
    "\n",
    "# Klass \n",
    "(Kelas), adalah kerangka dasar dari objek yang akan diciptakan, bisa berupa struktur yang mendefinisikan data atau method dari objek. Contoh penamaan kelas adalah: Motor, Laptop, Anggota, dan lainnya.\n",
    "\n",
    "# Property, \n",
    "adalah data yang dimiliki oleh class. Contohnya pada class Motor, memiliki property sebagai berikut:\n",
    "- Tipe\n",
    "- Warna\n",
    "- Produsen\n",
    "# Method, \n",
    "adalah perilaku dari sebuah class. Bisa juga disebut  sebagai tindakan yang bisa dilakukan oleh suatu class. Contoh pada class Motor, memiliki method sebagai berikut:\n",
    "- Start, method untuk menjalankan motor\n",
    "- Stop, method untuk menghentikan laju motor\n",
    "- Ganti Gigi, method untuk ganti gigi\n",
    "- Turn, method untuk belok kiri atau kanan\n",
    "\n",
    "# Variabel Kelas, \n",
    "merupakan variabel yang dibagikan oleh semua turunan dari kelas. Variabel kelas didefinisikan di dalam kelas, tapi di luar method yang ada di dalam kelas tersebut.\n",
    "# Data Member,\n",
    "merupakan variabel penyimpan data yang berhubungan dengan kelas dan objek\n",
    "# Overloading\n",
    "Fungsi, merupakan fungsi yang namanya sama di dalam kelas, tetapi jumlah dan tipe argumennya berbeda. Sehingga bisa dilakukan beberapa hal yang berbeda.\n",
    "# Overloading Operator, \n",
    "merupakan pembuatan beberapa fungsi untuk satu operator.\n",
    "# Variabel Instansiasi, \n",
    "merupakan variabel yang didefinisikan di dalam suatu method dan hanya menjadi milik dari satu kelas.\n",
    "# Pewarisan,\n",
    "merupakan pewarisan karakteristik dari sebuah kelas kepada kelas lain yang menjadi turunannya.\n",
    "# Instansiasi, \n",
    "merupakan pembuatan objek dari suatu kelas."
   ]
  },
  {
   "cell_type": "code",
   "execution_count": 7,
   "metadata": {},
   "outputs": [
    {
     "name": "stdout",
     "output_type": "stream",
     "text": [
      "Nama : rino\n",
      "Nilai : 100\n",
      "\n",
      "Nama : ibran\n",
      "Nilai : 70\n",
      "\n",
      "Nama : adi\n",
      "Nilai : 80\n",
      "\n",
      "Nama : iqlima\n",
      "Nilai : 90\n",
      "\n",
      "Nama : akhsan\n",
      "Nilai : 90\n",
      "\n",
      "total mahasiswa: 5\n"
     ]
    }
   ],
   "source": [
    "\n",
    "\n",
    "class Mahasiswa:\n",
    "    '''Dasar kelas untuk semua karyawan'''\n",
    "    jumlah_mahasiswa = 0\n",
    "\n",
    "    def __init__(self, nama, nilai):\n",
    "        self.nama = nama\n",
    "        self.nilai = nilai\n",
    "        Mahasiswa.jumlah_mahasiswa += 1\n",
    "\n",
    "    def tampilkan_jumlah(self):\n",
    "        print(\"Total mahasiswa:\", Mahasiswa.jumlah_mahasiswa)\n",
    "\n",
    "    def tampilkan_profil(self):\n",
    "        print(\"Nama :\", self.nama)\n",
    "        print(\"Nilai :\", self.nilai)\n",
    "        print()\n",
    "        \n",
    "mahasiswa1 = Mahasiswa('rino', 100)\n",
    "mahasiswa2 = Mahasiswa('ibran', 70)\n",
    "mahasiswa3 = Mahasiswa('adi', 80)\n",
    "mahasiswa4 = Mahasiswa('iqlima', 90)\n",
    "mahasiswa5 = Mahasiswa('akhsan', 90)\n",
    "\n",
    "\n",
    "\n",
    "mahasiswa1.tampilkan_profil()\n",
    "mahasiswa2.tampilkan_profil()\n",
    "mahasiswa3.tampilkan_profil()\n",
    "mahasiswa4.tampilkan_profil()\n",
    "mahasiswa5.tampilkan_profil()\n",
    "\n",
    "\n",
    "print(\"total mahasiswa:\", Mahasiswa.jumlah_mahasiswa )\n",
    "\n"
   ]
  },
  {
   "cell_type": "markdown",
   "metadata": {},
   "source": [
    "# CRC\n",
    "Dalam perancangan sebuah perangkat lunak, salah satu tahap yang paling penting adalah membuat CRC Card dan Class Diagram. CRC Card berguna untuk mendeskripsikan kelas apa saja yanng akan dipakai beserta fungsionalitas yang dibutuhkan dan hubungannya dengan kelas lain\n",
    "\n",
    "CRC memiliki 3 bagian yaitu Class, Responsibilities, dan Collaborator.\n",
    "\n",
    "Responsibilities merupakan hal-hal yang dikerjakan dan yang diketahui oleh suatu Class. Collaborator merupakan class lain yang berinteraksi untuk dapat memenuhi Responsibilities suatu Class. \n"
   ]
  },
  {
   "cell_type": "markdown",
   "metadata": {},
   "source": [
    "| ClasName      |             |\n",
    "    | :---          |    :----:   |\n",
    "    | Responsibility   | Collaborator        |\n",
    "    \n",
    "    \n"
   ]
  },
  {
   "cell_type": "markdown",
   "metadata": {},
   "source": [
    " contoh CRC Cards : Touris\n",
    " \n",
    "   |Class: Touris    |                |\n",
    "    |  :----          |:------         |\n",
    "    | Responsibility: | Collaborators: |\n",
    "    | - Melihat Peta lokasi dan rute wisata             | - RoadMap             |\n",
    "    | - Melakukan boking dan riservasi hotel            | - Hotel REservation   |\n",
    "    | - Memberikan informasi terkait tempat wisata      | - Contribution        | \n",
    "    | - Melakukan Pendaftaran Pada Website              |                       | "
   ]
  },
  {
   "cell_type": "markdown",
   "metadata": {},
   "source": [
    "   |Class: RoadMap    |                |\n",
    "    |  :----          |:------         |\n",
    "    | Responsibility: | Collaborators: |\n",
    "    | - Menunjukan lokasi peta berdasarkan pencarian tertentu  |            |\n",
    "    | - Mencari rute terpendek dari wisata tersebut            | - Tourist  |\n",
    "    | - Menampilkan lokasi saat ini                            |            |"
   ]
  },
  {
   "cell_type": "markdown",
   "metadata": {},
   "source": [
    "  |Class: HotelResevation   |                |\n",
    "    |  :----          |:------         |\n",
    "    | Responsibility: | Collaborators: |\n",
    "    | - Menampilkan tentang penyewaan hotel                         |            |\n",
    "    | - Memberikan informasi terkait fasilitas dan layanan hotel    | - Tourist  |\n",
    "    "
   ]
  },
  {
   "cell_type": "markdown",
   "metadata": {},
   "source": [
    "  |Class: Contribution     |                |\n",
    "    |  :----          |:------         |\n",
    "    | Responsibility: | Collaborators: |\n",
    "    | - Menerima informasi baru terkait tempat wista    |            |\n",
    "    | - Memberikan informasi baru dilokasi wisata       | - Tourist  |"
   ]
  }
 ],
 "metadata": {
  "kernelspec": {
   "display_name": "Python 3",
   "language": "python",
   "name": "python3"
  },
  "language_info": {
   "codemirror_mode": {
    "name": "ipython",
    "version": 3
   },
   "file_extension": ".py",
   "mimetype": "text/x-python",
   "name": "python",
   "nbconvert_exporter": "python",
   "pygments_lexer": "ipython3",
   "version": "3.8.5"
  }
 },
 "nbformat": 4,
 "nbformat_minor": 4
}
